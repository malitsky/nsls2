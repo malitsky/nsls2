{
 "cells": [
  {
   "cell_type": "code",
   "execution_count": 1,
   "metadata": {
    "collapsed": true
   },
   "outputs": [],
   "source": [
    "from __future__ import (absolute_import, division, print_function,\n",
    "                        unicode_literals)\n",
    "\n",
    "import time\n",
    "from datetime import datetime\n",
    "import numpy as np\n",
    "import pandas as pd\n",
    "\n",
    "from acpf import ArchiverConfig"
   ]
  },
  {
   "cell_type": "code",
   "execution_count": 2,
   "metadata": {
    "collapsed": true
   },
   "outputs": [],
   "source": [
    "bpl_url = 'http://xf04id-ca1.cs.nsls2.local:17665/mgmt/bpl'\n",
    "arconf = ArchiverConfig(bpl_url)"
   ]
  },
  {
   "cell_type": "markdown",
   "metadata": {},
   "source": [
    "# Comparing PVs from Archiver and Channel Finder"
   ]
  },
  {
   "cell_type": "markdown",
   "metadata": {},
   "source": [
    "Retrieve PVs from Archiver"
   ]
  },
  {
   "cell_type": "code",
   "execution_count": 3,
   "metadata": {
    "collapsed": false
   },
   "outputs": [
    {
     "name": "stdout",
     "output_type": "stream",
     "text": [
      "pvs:  1972 time: 0:00:00.067603  seconds\n"
     ]
    }
   ],
   "source": [
    "t1 = datetime.now();\n",
    "# all_pvs = arconf.getAllPVs(regex = '*Mtr*', limit = 10000)\n",
    "all_pvs = arconf.getAllPVs(limit = 10000)\n",
    "t2 = datetime.now();\n",
    "print('pvs: ', len(all_pvs), \"time:\", (t2 - t1), \" seconds\")"
   ]
  },
  {
   "cell_type": "code",
   "execution_count": 4,
   "metadata": {
    "collapsed": false
   },
   "outputs": [
    {
     "name": "stdout",
     "output_type": "stream",
     "text": [
      "systems:  24 devices:  135 signals:  412\n"
     ]
    }
   ],
   "source": [
    "# general statistics\n",
    "systems = arconf.getSystems(all_pvs)\n",
    "devices = arconf.getDevices(all_pvs)\n",
    "signals = arconf.getSignals(all_pvs)\n",
    "print('systems: ', len(set(systems)), 'devices: ', len(set(devices)), 'signals: ', len(set(signals)))"
   ]
  },
  {
   "cell_type": "markdown",
   "metadata": {},
   "source": [
    "Select new PVs from Channel Finder sources"
   ]
  },
  {
   "cell_type": "code",
   "execution_count": 5,
   "metadata": {
    "collapsed": false
   },
   "outputs": [
    {
     "name": "stdout",
     "output_type": "stream",
     "text": [
      "pvs:  8512 time: 0:00:00.216985  seconds\n"
     ]
    }
   ],
   "source": [
    "bl = \"xf04\"\n",
    "t1 = datetime.now();\n",
    "new_pvs = arconf.selectNewPVs(bl, system = '', device = '.*', signal = '.*Mtr.*StringOut_')\n",
    "t2 = datetime.now();\n",
    "print('pvs: ', len(new_pvs), \"time:\", (t2 - t1), \" seconds\")"
   ]
  },
  {
   "cell_type": "code",
   "execution_count": 6,
   "metadata": {
    "collapsed": false
   },
   "outputs": [
    {
     "name": "stdout",
     "output_type": "stream",
     "text": [
      "systems:  12 devices:  266 signals:  32\n"
     ]
    }
   ],
   "source": [
    "# general statistics\n",
    "systems = arconf.getSystems(new_pvs)\n",
    "devices = arconf.getDevices(new_pvs)\n",
    "signals = arconf.getSignals(new_pvs)\n",
    "print('systems: ', len(set(systems)), 'devices: ', len(set(devices)), 'signals: ', len(set(signals)))"
   ]
  },
  {
   "cell_type": "markdown",
   "metadata": {},
   "source": [
    "Find the difference betweem the Archiver and Channel Finder collections of PVs"
   ]
  },
  {
   "cell_type": "code",
   "execution_count": 7,
   "metadata": {
    "collapsed": false
   },
   "outputs": [
    {
     "data": {
      "text/plain": [
       "8510"
      ]
     },
     "execution_count": 7,
     "metadata": {},
     "output_type": "execute_result"
    }
   ],
   "source": [
    "diff_pvs = list(set(new_pvs) - set(all_pvs))\n",
    "len(diff_pvs)"
   ]
  },
  {
   "cell_type": "markdown",
   "metadata": {},
   "source": [
    "# Archiving PVs"
   ]
  },
  {
   "cell_type": "markdown",
   "metadata": {},
   "source": [
    "Select 1000 PVs for archiving"
   ]
  },
  {
   "cell_type": "code",
   "execution_count": 8,
   "metadata": {
    "collapsed": true
   },
   "outputs": [],
   "source": [
    "demo_pvs = diff_pvs[0:1000]"
   ]
  },
  {
   "cell_type": "markdown",
   "metadata": {},
   "source": [
    "Send requests for archiving PVs"
   ]
  },
  {
   "cell_type": "code",
   "execution_count": 9,
   "metadata": {
    "collapsed": false
   },
   "outputs": [
    {
     "name": "stdout",
     "output_type": "stream",
     "text": [
      "time: 0:00:20.674778  seconds\n"
     ]
    }
   ],
   "source": [
    "t1 = datetime.now();\n",
    "archive_pvs = arconf.archivePV(demo_pvs)\n",
    "t2 = datetime.now();\n",
    "print(\"time:\", (t2 - t1), \" seconds\")"
   ]
  },
  {
   "cell_type": "markdown",
   "metadata": {},
   "source": [
    "Wait 5 minutes"
   ]
  },
  {
   "cell_type": "code",
   "execution_count": 10,
   "metadata": {
    "collapsed": true
   },
   "outputs": [],
   "source": [
    "time.sleep(300) "
   ]
  },
  {
   "cell_type": "markdown",
   "metadata": {},
   "source": [
    "Check status of PVs"
   ]
  },
  {
   "cell_type": "code",
   "execution_count": 11,
   "metadata": {
    "collapsed": false
   },
   "outputs": [
    {
     "name": "stdout",
     "output_type": "stream",
     "text": [
      "archived:  434 others: 566 time: 0:00:01.155144  seconds\n"
     ]
    }
   ],
   "source": [
    "t1 = datetime.now();\n",
    "archived, others = arconf.getArchivingStatus(demo_pvs)\n",
    "t2 = datetime.now();\n",
    "print('archived: ', len(archived), 'others:', len(others), \"time:\", (t2 - t1), \" seconds\")"
   ]
  },
  {
   "cell_type": "markdown",
   "metadata": {},
   "source": [
    "# Restoring the original configuration"
   ]
  },
  {
   "cell_type": "markdown",
   "metadata": {},
   "source": [
    "Abort requests for unarchived PVs"
   ]
  },
  {
   "cell_type": "code",
   "execution_count": 12,
   "metadata": {
    "collapsed": false
   },
   "outputs": [
    {
     "name": "stdout",
     "output_type": "stream",
     "text": [
      "never connected pvs:  0 time: 0:00:16.633981  seconds\n"
     ]
    }
   ],
   "source": [
    "t1 = datetime.now();\n",
    "for i, pv in enumerate(others, start=1):\n",
    "    arconf.abortArchivingPV(pv)\n",
    "t2 = datetime.now();    \n",
    "never_pvs = arconf.getNeverConnectedPVs()\n",
    "print('never connected pvs: ', len(never_pvs), \"time:\", (t2 - t1), \" seconds\")"
   ]
  },
  {
   "cell_type": "markdown",
   "metadata": {},
   "source": [
    "Pause archived PVs"
   ]
  },
  {
   "cell_type": "code",
   "execution_count": 13,
   "metadata": {
    "collapsed": false
   },
   "outputs": [
    {
     "name": "stdout",
     "output_type": "stream",
     "text": [
      "paused pvs, before:  225 after : 659 time: 0:00:00.340455  seconds\n"
     ]
    }
   ],
   "source": [
    "paused_pvs_1 = arconf.getPausedPVsReport()\n",
    "t1 = datetime.now();\n",
    "pause_pvs = arconf.pauseArchivingPV(archived)\n",
    "t2 = datetime.now(); \n",
    "time.sleep(30)\n",
    "paused_pvs_2= arconf.getPausedPVsReport()\n",
    "print('paused pvs, before: ', len(paused_pvs_1), 'after :', len(paused_pvs_2), \"time:\", (t2 - t1), \" seconds\")"
   ]
  },
  {
   "cell_type": "markdown",
   "metadata": {},
   "source": [
    "Delete paused PVs"
   ]
  },
  {
   "cell_type": "code",
   "execution_count": 14,
   "metadata": {
    "collapsed": false
   },
   "outputs": [
    {
     "name": "stdout",
     "output_type": "stream",
     "text": [
      "paused pvs:  225 time: 0:00:04.161084  seconds\n"
     ]
    }
   ],
   "source": [
    "t1 = datetime.now();\n",
    "for i, pv in enumerate(archived):\n",
    "    delete_pv = arconf.deletePV(pv)\n",
    "t2 = datetime.now();\n",
    "paused_pvs = arconf.getPausedPVsReport()\n",
    "print('paused pvs: ', len(paused_pvs), \"time:\", (t2 - t1), \" seconds\")"
   ]
  },
  {
   "cell_type": "markdown",
   "metadata": {},
   "source": [
    "## Check the Archiver configuration"
   ]
  },
  {
   "cell_type": "code",
   "execution_count": 15,
   "metadata": {
    "collapsed": false
   },
   "outputs": [
    {
     "name": "stdout",
     "output_type": "stream",
     "text": [
      "1972\n"
     ]
    }
   ],
   "source": [
    "final_pvs = arconf.getAllPVs(limit = 10000)\n",
    "print(len(final_pvs))"
   ]
  },
  {
   "cell_type": "code",
   "execution_count": null,
   "metadata": {
    "collapsed": true
   },
   "outputs": [],
   "source": []
  }
 ],
 "metadata": {
  "anaconda-cloud": {},
  "kernelspec": {
   "display_name": "Python 2",
   "language": "python",
   "name": "python2"
  },
  "language_info": {
   "codemirror_mode": {
    "name": "ipython",
    "version": 2
   },
   "file_extension": ".py",
   "mimetype": "text/x-python",
   "name": "python",
   "nbconvert_exporter": "python",
   "pygments_lexer": "ipython2",
   "version": "2.7.14"
  }
 },
 "nbformat": 4,
 "nbformat_minor": 2
}
