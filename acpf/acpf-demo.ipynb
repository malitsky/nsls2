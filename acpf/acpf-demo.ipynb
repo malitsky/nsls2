{
 "cells": [
  {
   "cell_type": "code",
   "execution_count": 1,
   "metadata": {
    "collapsed": true
   },
   "outputs": [],
   "source": [
    "from __future__ import (absolute_import, division, print_function,\n",
    "                        unicode_literals)\n",
    "\n",
    "from datetime import datetime\n",
    "import numpy as np\n",
    "import pandas as pd\n",
    "\n",
    "from acpf import ArchiverConfig"
   ]
  },
  {
   "cell_type": "code",
   "execution_count": 2,
   "metadata": {
    "collapsed": true
   },
   "outputs": [],
   "source": [
    "bpl_url = 'http://xf07bm-ca1.cs.nsls2.local:17665/mgmt/bpl'\n",
    "arconf = ArchiverConfig(bpl_url)"
   ]
  },
  {
   "cell_type": "markdown",
   "metadata": {},
   "source": [
    "# Selecting New PVs"
   ]
  },
  {
   "cell_type": "markdown",
   "metadata": {},
   "source": [
    "Get pvs from Archiver"
   ]
  },
  {
   "cell_type": "code",
   "execution_count": 3,
   "metadata": {
    "collapsed": false
   },
   "outputs": [
    {
     "name": "stdout",
     "output_type": "stream",
     "text": [
      "513 time: 0:00:00.023369  seconds\n"
     ]
    }
   ],
   "source": [
    "t1 = datetime.now();\n",
    "all_pvs = arconf.getAllPVs(limit = 1000)\n",
    "t2 = datetime.now();\n",
    "print(len(all_pvs), \"time:\", (t2 - t1), \" seconds\")\n",
    "# for i, pvname in enumerate(all_pvs, start = 1):\n",
    "#    print (i, pvname)"
   ]
  },
  {
   "cell_type": "markdown",
   "metadata": {},
   "source": [
    "Select new pvs from the Channel Finder sources"
   ]
  },
  {
   "cell_type": "code",
   "execution_count": 4,
   "metadata": {
    "collapsed": false
   },
   "outputs": [
    {
     "name": "stdout",
     "output_type": "stream",
     "text": [
      "3\n"
     ]
    }
   ],
   "source": [
    "bl = \"xf07\"\n",
    "new_pvs = arconf.selectNewPVs(bl, system = 'BMA-VA', signal = 'Sts')\n",
    "print(len(new_pvs))"
   ]
  },
  {
   "cell_type": "markdown",
   "metadata": {},
   "source": [
    "Find and check the intersection of two collections"
   ]
  },
  {
   "cell_type": "code",
   "execution_count": 6,
   "metadata": {
    "collapsed": false
   },
   "outputs": [
    {
     "data": {
      "text/plain": [
       "['XF:07BMA-VA{Mir:FM1-CCG:1}Sts', 'XF:07BMA-VA{BT:1-CCG:1}Sts']"
      ]
     },
     "execution_count": 6,
     "metadata": {},
     "output_type": "execute_result"
    }
   ],
   "source": [
    "diff_pvs = list(set(new_pvs) - set(all_pvs))\n",
    "diff_pvs"
   ]
  },
  {
   "cell_type": "markdown",
   "metadata": {},
   "source": [
    "# Archiving PVs"
   ]
  },
  {
   "cell_type": "code",
   "execution_count": 12,
   "metadata": {
    "collapsed": true
   },
   "outputs": [],
   "source": [
    "demo_pvs = diff_pvs"
   ]
  },
  {
   "cell_type": "markdown",
   "metadata": {},
   "source": [
    "Archive pvs"
   ]
  },
  {
   "cell_type": "code",
   "execution_count": 8,
   "metadata": {
    "collapsed": false
   },
   "outputs": [
    {
     "data": {
      "text/plain": [
       "[{u'pvName': u'XF:07BMA-VA{Mir:FM1-CCG:1}Sts',\n",
       "  u'status': u'Archive request submitted'},\n",
       " {u'pvName': u'XF:07BMA-VA{BT:1-CCG:1}Sts',\n",
       "  u'status': u'Archive request submitted'}]"
      ]
     },
     "execution_count": 8,
     "metadata": {},
     "output_type": "execute_result"
    }
   ],
   "source": [
    "archive_pvs = arconf.archivePV(demo_pvs)\n",
    "archive_pvs"
   ]
  },
  {
   "cell_type": "markdown",
   "metadata": {},
   "source": [
    "Check status "
   ]
  },
  {
   "cell_type": "code",
   "execution_count": 18,
   "metadata": {
    "collapsed": false
   },
   "outputs": [
    {
     "name": "stdout",
     "output_type": "stream",
     "text": [
      "1 {u'status': u'Being archived', u'connectionLossRegainCount': u'0', u'lastRotateLogs': u'Never', u'pvNameOnly': u'XF:07BMA-VA{Mir:FM1-CCG:1}Sts', u'appliance': u'appliance0', u'connectionState': u'true', u'lastEvent': u'May/21/2018 18:55:49 -04:00', u'samplingPeriod': u'1.0', u'pvName': u'XF:07BMA-VA{Mir:FM1-CCG:1}Sts', u'connectionFirstEstablished': u'May/21/2018 18:55:48 -04:00', u'connectionLastRestablished': u'Never', u'isMonitored': u'true'}\n",
      "2 {u'status': u'Being archived', u'connectionLossRegainCount': u'0', u'lastRotateLogs': u'Never', u'pvNameOnly': u'XF:07BMA-VA{BT:1-CCG:1}Sts', u'appliance': u'appliance0', u'connectionState': u'true', u'lastEvent': u'May/21/2018 18:55:49 -04:00', u'samplingPeriod': u'1.0', u'pvName': u'XF:07BMA-VA{BT:1-CCG:1}Sts', u'connectionFirstEstablished': u'May/21/2018 18:55:48 -04:00', u'connectionLastRestablished': u'Never', u'isMonitored': u'true'}\n"
     ]
    }
   ],
   "source": [
    "status = arconf.getPVStatus(demo_pvs)\n",
    "for i, record in enumerate(status, start = 1):\n",
    "    print (i, record)"
   ]
  },
  {
   "cell_type": "markdown",
   "metadata": {},
   "source": [
    "# Restoring the original configuration"
   ]
  },
  {
   "cell_type": "markdown",
   "metadata": {},
   "source": [
    "Pause pvs"
   ]
  },
  {
   "cell_type": "code",
   "execution_count": 20,
   "metadata": {
    "collapsed": false
   },
   "outputs": [
    {
     "data": {
      "text/plain": [
       "[{u'engine_desc': u'Successfully paused the archiving of PV XF:07BMA-VA{Mir:FM1-CCG:1}Sts',\n",
       "  u'engine_pvName': u'XF:07BMA-VA{Mir:FM1-CCG:1}Sts',\n",
       "  u'engine_status': u'ok',\n",
       "  u'etl_desc': u'Successfully removed PV XF:07BMA-VA{Mir:FM1-CCG:1}Sts from the cluster',\n",
       "  u'etl_pvName': u'XF:07BMA-VA{Mir:FM1-CCG:1}Sts',\n",
       "  u'etl_status': u'ok',\n",
       "  u'pvName': u'XF:07BMA-VA{Mir:FM1-CCG:1}Sts',\n",
       "  u'status': u'ok'},\n",
       " {u'engine_desc': u'Successfully paused the archiving of PV XF:07BMA-VA{BT:1-CCG:1}Sts',\n",
       "  u'engine_pvName': u'XF:07BMA-VA{BT:1-CCG:1}Sts',\n",
       "  u'engine_status': u'ok',\n",
       "  u'etl_desc': u'Successfully removed PV XF:07BMA-VA{BT:1-CCG:1}Sts from the cluster',\n",
       "  u'etl_pvName': u'XF:07BMA-VA{BT:1-CCG:1}Sts',\n",
       "  u'etl_status': u'ok',\n",
       "  u'pvName': u'XF:07BMA-VA{BT:1-CCG:1}Sts',\n",
       "  u'status': u'ok'}]"
      ]
     },
     "execution_count": 20,
     "metadata": {},
     "output_type": "execute_result"
    }
   ],
   "source": [
    "pause_pvs = arconf.pauseArchivingPV(demo_pvs)\n",
    "pause_pvs"
   ]
  },
  {
   "cell_type": "markdown",
   "metadata": {},
   "source": [
    "Delete pvs"
   ]
  },
  {
   "cell_type": "code",
   "execution_count": 21,
   "metadata": {
    "collapsed": false
   },
   "outputs": [
    {
     "name": "stdout",
     "output_type": "stream",
     "text": [
      "0 {u'status': u'ok', u'desc': u'Successfully removed PV XF:07BMA-VA{Mir:FM1-CCG:1}Sts from the cluster'}\n",
      "1 {u'status': u'ok', u'desc': u'Successfully removed PV XF:07BMA-VA{BT:1-CCG:1}Sts from the cluster'}\n"
     ]
    }
   ],
   "source": [
    "for i, pv in enumerate(demo_pvs):\n",
    "    delete_pv = arconf.deletePV(pv)\n",
    "    print(i, delete_pv)"
   ]
  },
  {
   "cell_type": "code",
   "execution_count": null,
   "metadata": {
    "collapsed": true
   },
   "outputs": [],
   "source": []
  }
 ],
 "metadata": {
  "anaconda-cloud": {},
  "kernelspec": {
   "display_name": "Python 2",
   "language": "python",
   "name": "python2"
  },
  "language_info": {
   "codemirror_mode": {
    "name": "ipython",
    "version": 2
   },
   "file_extension": ".py",
   "mimetype": "text/x-python",
   "name": "python",
   "nbconvert_exporter": "python",
   "pygments_lexer": "ipython2",
   "version": "2.7.14"
  }
 },
 "nbformat": 4,
 "nbformat_minor": 2
}
