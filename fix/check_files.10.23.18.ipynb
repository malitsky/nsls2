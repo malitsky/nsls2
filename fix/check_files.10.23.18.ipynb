{
 "cells": [
  {
   "cell_type": "code",
   "execution_count": 1,
   "metadata": {},
   "outputs": [],
   "source": [
    "from datetime import datetime\n",
    "\n",
    "import warnings\n",
    "warnings.filterwarnings('ignore')\n",
    "\n",
    "# make graphics inline\n",
    "%matplotlib inline\n",
    "\n",
    "from databroker import Broker"
   ]
  },
  {
   "cell_type": "code",
   "execution_count": null,
   "metadata": {},
   "outputs": [],
   "source": [
    "'''\n",
    "fix.yml\n",
    "\n",
    "metadatastore:\n",
    "    module: databroker.headersource.mongo\n",
    "    class: MDS\n",
    "    config:\n",
    "        host: 'xf18id-ca1'\n",
    "        port: 27017\n",
    "        database: 'metadatastore-production-v1'\n",
    "        timezone: 'US/Eastern'\n",
    "assets:\n",
    "    module: databroker.assets.mongo\n",
    "    class: Registry\n",
    "    config:\n",
    "        host: 'xf18id-ca1'\n",
    "        port: 27017\n",
    "        database: 'filestore-production-v1'\n",
    "'''"
   ]
  },
  {
   "cell_type": "code",
   "execution_count": 2,
   "metadata": {},
   "outputs": [],
   "source": [
    "db = Broker.named('fix')"
   ]
  },
  {
   "cell_type": "code",
   "execution_count": 12,
   "metadata": {},
   "outputs": [
    {
     "name": "stdout",
     "output_type": "stream",
     "text": [
      "6466 success\n",
      "    0 {'spec': 'AD_HDF5', 'resource_path': '2018/10/21/d1d1aeb2-dcce-4ad7-b1df_000000.h5', 'root': '/NSLS2/xf18id1/DATA/Andor', 'resource_kwargs': {'frame_per_point': 5}, 'path_semantics': 'posix', 'uid': '7a19884e-7fe8-4154-a64a-14f3c8fa27fe', 'id': '7a19884e-7fe8-4154-a64a-14f3c8fa27fe'}\n",
      "6467 success\n",
      "    0 {'spec': 'AD_HDF5', 'resource_path': '2018/10/21/2a3ef85e-2bb1-42b8-a422_000000.h5', 'root': '/NSLS2/xf18id1/DATA/Andor', 'resource_kwargs': {'frame_per_point': 20}, 'path_semantics': 'posix', 'uid': 'c63f88dd-bdbe-4899-abe9-31cbd2efd53d', 'id': 'c63f88dd-bdbe-4899-abe9-31cbd2efd53d'}\n",
      "6468 success\n",
      "    0 {'spec': 'AD_HDF5', 'resource_path': '2018/10/21/ec8dc5a1-4196-406f-8199_000000.h5', 'root': '/NSLS2/xf18id1/DATA/Andor', 'resource_kwargs': {'frame_per_point': 20}, 'path_semantics': 'posix', 'uid': '23d1750e-c602-40f5-a775-56dc13abd4a3', 'id': '23d1750e-c602-40f5-a775-56dc13abd4a3'}\n",
      "6469 success\n",
      "    0 {'spec': 'AD_HDF5', 'resource_path': '2018/10/21/7171d6dd-d6c0-4508-a7df_000000.h5', 'root': '/NSLS2/xf18id1/DATA/Andor', 'resource_kwargs': {'frame_per_point': 20}, 'path_semantics': 'posix', 'uid': '83a0fa87-55aa-43b2-91f5-d817ab269a62', 'id': '83a0fa87-55aa-43b2-91f5-d817ab269a62'}\n",
      "6470 success\n",
      "    0 {'spec': 'AD_HDF5', 'resource_path': '2018/10/21/83d5255d-9367-44a0-9274_000000.h5', 'root': '/NSLS2/xf18id1/DATA/Andor', 'resource_kwargs': {'frame_per_point': 20}, 'path_semantics': 'posix', 'uid': 'd12eb510-da4a-4264-afbe-a091f74c170c', 'id': 'd12eb510-da4a-4264-afbe-a091f74c170c'}\n",
      "6471 success\n",
      "    0 {'spec': 'AD_HDF5', 'resource_path': '2018/10/21/c2624fe1-7396-46be-a279_000000.h5', 'root': '/NSLS2/xf18id1/DATA/Andor', 'resource_kwargs': {'frame_per_point': 20}, 'path_semantics': 'posix', 'uid': 'df988093-d119-4f4e-aa36-4faebaf42701', 'id': 'df988093-d119-4f4e-aa36-4faebaf42701'}\n",
      "6472 success\n",
      "    0 {'spec': 'AD_HDF5', 'resource_path': '2018/10/21/6c49cb5e-0481-4a8c-9da3_000000.h5', 'root': '/NSLS2/xf18id1/DATA/Andor', 'resource_kwargs': {'frame_per_point': 20}, 'path_semantics': 'posix', 'uid': 'a904d361-1a24-489a-a727-418cd53b033f', 'id': 'a904d361-1a24-489a-a727-418cd53b033f'}\n",
      "6473 success\n",
      "    0 {'spec': 'AD_HDF5', 'resource_path': '2018/10/21/b7205249-ad6b-4d73-865e_000000.h5', 'root': '/NSLS2/xf18id1/DATA/Andor', 'resource_kwargs': {'frame_per_point': 20}, 'path_semantics': 'posix', 'uid': '9c2a3406-adc8-495b-969d-6f77f054891f', 'id': '9c2a3406-adc8-495b-969d-6f77f054891f'}\n",
      "6474 success\n",
      "    0 {'spec': 'AD_HDF5', 'resource_path': '2018/10/21/163a50a7-37b2-4193-b96d_000000.h5', 'root': '/NSLS2/xf18id1/DATA/Andor', 'resource_kwargs': {'frame_per_point': 20}, 'path_semantics': 'posix', 'uid': 'b247f916-4757-4ee5-95b3-35ecc573255b', 'id': 'b247f916-4757-4ee5-95b3-35ecc573255b'}\n",
      "6475 success\n",
      "    0 {'spec': 'AD_HDF5', 'resource_path': '2018/10/21/47a7147d-681f-4816-a5cd_000000.h5', 'root': '/NSLS2/xf18id1/DATA/Andor', 'resource_kwargs': {'frame_per_point': 20}, 'path_semantics': 'posix', 'uid': '97a8f29c-13b5-43a2-b736-cf887faec541', 'id': '97a8f29c-13b5-43a2-b736-cf887faec541'}\n",
      "6476 success\n",
      "    0 {'spec': 'AD_HDF5', 'resource_path': '2018/10/21/282144be-be03-471a-a5ce_000000.h5', 'root': '/NSLS2/xf18id1/DATA/Andor', 'resource_kwargs': {'frame_per_point': 5}, 'path_semantics': 'posix', 'uid': 'a16bd8d3-2bf3-49cb-a73e-dbcc84f91dd6', 'id': 'a16bd8d3-2bf3-49cb-a73e-dbcc84f91dd6'}\n"
     ]
    }
   ],
   "source": [
    "for scan_id in range(6466, 6477):\n",
    "    hdr = db[scan_id]\n",
    "    print(scan_id, hdr.stop['exit_status'])  \n",
    "    res_uids = list(db.get_resource_uids(hdr))\n",
    "    for i, uid in enumerate(res_uids):\n",
    "        res_doc = db.reg.resource_given_uid(uid)\n",
    "        print(\"   \", i, res_doc)\n",
    "    "
   ]
  },
  {
   "cell_type": "code",
   "execution_count": null,
   "metadata": {},
   "outputs": [],
   "source": []
  }
 ],
 "metadata": {
  "kernelspec": {
   "display_name": "Python 3",
   "language": "python",
   "name": "python3"
  },
  "language_info": {
   "codemirror_mode": {
    "name": "ipython",
    "version": 3
   },
   "file_extension": ".py",
   "mimetype": "text/x-python",
   "name": "python",
   "nbconvert_exporter": "python",
   "pygments_lexer": "ipython3",
   "version": "3.6.5"
  }
 },
 "nbformat": 4,
 "nbformat_minor": 2
}
