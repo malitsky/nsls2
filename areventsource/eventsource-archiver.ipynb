{
 "cells": [
  {
   "cell_type": "markdown",
   "metadata": {},
   "source": [
    "An example of fetching archived data using the ArchiverEventSource interface"
   ]
  },
  {
   "cell_type": "code",
   "execution_count": 1,
   "metadata": {
    "collapsed": false
   },
   "outputs": [],
   "source": [
    "from datetime import datetime\n",
    "\n",
    "import numpy as np\n",
    "import matplotlib.pyplot as plt\n",
    "import h5py\n",
    "\n",
    "import pandas as pd\n",
    "import pprint\n",
    "\n",
    "import pymongo\n",
    "from pymongo import MongoClient\n",
    "\n",
    "import requests\n",
    "\n",
    "import databroker\n",
    "from databroker import list_configs\n",
    "from databroker import Broker\n",
    "\n",
    "# make graphics inline\n",
    "%matplotlib inline\n",
    "\n",
    "from archiver import ArchiverEventSource"
   ]
  },
  {
   "cell_type": "markdown",
   "metadata": {},
   "source": [
    "## Databroker Header"
   ]
  },
  {
   "cell_type": "code",
   "execution_count": 2,
   "metadata": {
    "collapsed": false
   },
   "outputs": [
    {
     "data": {
      "text/plain": [
       "'dff0dab0-08ed-478d-b041-d38891430b24'"
      ]
     },
     "execution_count": 2,
     "metadata": {},
     "output_type": "execute_result"
    }
   ],
   "source": [
    "db = Broker.named('hxn_new')\n",
    "header = db[-2]\n",
    "header['start']['uid']"
   ]
  },
  {
   "cell_type": "markdown",
   "metadata": {},
   "source": [
    "## Archiver Event Source"
   ]
  },
  {
   "cell_type": "code",
   "execution_count": 3,
   "metadata": {
    "collapsed": false
   },
   "outputs": [],
   "source": [
    "url = 'http://xf07bm-ca1.cs.nsls2.local:17668/'\n",
    "timezone = 'US/Eastern'\n",
    "pvs = {\"PV1\" : \"XF:07BMA-VA{Diag:1-IP:1}I-I\", \n",
    "       \"PV2\" : \"FE:C07B-OP{Mir:Col-TC:4}T-I\"}\n",
    "es = ArchiverEventSource(url, timezone, pvs)"
   ]
  },
  {
   "cell_type": "markdown",
   "metadata": {},
   "source": [
    "### stream_names_given_header"
   ]
  },
  {
   "cell_type": "code",
   "execution_count": 4,
   "metadata": {
    "collapsed": false
   },
   "outputs": [
    {
     "name": "stdout",
     "output_type": "stream",
     "text": [
      "['archiver_PV1', 'archiver_PV2']\n"
     ]
    }
   ],
   "source": [
    "stream_names = es.stream_names_given_header(header)\n",
    "print(stream_names)"
   ]
  },
  {
   "cell_type": "markdown",
   "metadata": {},
   "source": [
    "### fields_given_header"
   ]
  },
  {
   "cell_type": "code",
   "execution_count": 5,
   "metadata": {
    "collapsed": false
   },
   "outputs": [
    {
     "name": "stdout",
     "output_type": "stream",
     "text": [
      "2 PV1 PV2\n"
     ]
    }
   ],
   "source": [
    "fset = es.fields_given_header(header)\n",
    "fields = list(fset)\n",
    "print(len(fields), fields[0], fields[1])"
   ]
  },
  {
   "cell_type": "markdown",
   "metadata": {},
   "source": [
    "### descriptors_given_header"
   ]
  },
  {
   "cell_type": "code",
   "execution_count": 6,
   "metadata": {
    "collapsed": false
   },
   "outputs": [
    {
     "data": {
      "text/plain": [
       "2"
      ]
     },
     "execution_count": 6,
     "metadata": {},
     "output_type": "execute_result"
    }
   ],
   "source": [
    "descriptors = es.descriptors_given_header(header)\n",
    "len(descriptors)"
   ]
  },
  {
   "cell_type": "code",
   "execution_count": 7,
   "metadata": {
    "collapsed": false
   },
   "outputs": [
    {
     "name": "stdout",
     "output_type": "stream",
     "text": [
      "{'external_query': {'to': '2018-04-20T02:33:57-04:00', 'from': '2018-04-20T02:13:19-04:00', 'pv': 'XF:07BMA-VA{Diag:1-IP:1}I-I'}, 'run_start': 'dff0dab0-08ed-478d-b041-d38891430b24', 'external_url': 'http://xf07bm-ca1.cs.nsls2.local:17668/', 'time': 1524204799.9761238, 'data_keys': {'PV1': {'dtype': 'number', 'shape': [], 'source': 'XF:07BMA-VA{Diag:1-IP:1}I-I'}}, 'uid': 'empheral-4f154eff-2c8f-4e8c-a511-fe87053dd06c'}\n"
     ]
    }
   ],
   "source": [
    "print(descriptors[0])"
   ]
  },
  {
   "cell_type": "code",
   "execution_count": 8,
   "metadata": {
    "collapsed": false
   },
   "outputs": [
    {
     "name": "stdout",
     "output_type": "stream",
     "text": [
      "{'external_query': {'to': '2018-04-20T02:33:57-04:00', 'from': '2018-04-20T02:13:19-04:00', 'pv': 'FE:C07B-OP{Mir:Col-TC:4}T-I'}, 'run_start': 'dff0dab0-08ed-478d-b041-d38891430b24', 'external_url': 'http://xf07bm-ca1.cs.nsls2.local:17668/', 'time': 1524204799.9761238, 'data_keys': {'PV2': {'dtype': 'number', 'shape': [], 'source': 'FE:C07B-OP{Mir:Col-TC:4}T-I'}}, 'uid': 'empheral-384e0873-e708-4489-b35d-4549cf3966c2'}\n"
     ]
    }
   ],
   "source": [
    "print(descriptors[1])"
   ]
  },
  {
   "cell_type": "markdown",
   "metadata": {},
   "source": [
    "### docs_given_header"
   ]
  },
  {
   "cell_type": "code",
   "execution_count": 9,
   "metadata": {
    "collapsed": false
   },
   "outputs": [
    {
     "name": "stdout",
     "output_type": "stream",
     "text": [
      "736 736\n"
     ]
    }
   ],
   "source": [
    "gen_es = es.docs_given_header(header)\n",
    "names_es = []\n",
    "docs_es = []\n",
    "for name, doc in gen_es:\n",
    "    names_es.append(name)\n",
    "    docs_es.append(doc)\n",
    "print(len(names_es), len(docs_es))"
   ]
  },
  {
   "cell_type": "code",
   "execution_count": 10,
   "metadata": {
    "collapsed": false
   },
   "outputs": [
    {
     "data": {
      "text/plain": [
       "{'data_keys': {'PV1': {'dtype': 'number',\n",
       "   'shape': [],\n",
       "   'source': 'XF:07BMA-VA{Diag:1-IP:1}I-I'}},\n",
       " 'external_query': {'from': '2018-04-20T02:13:19-04:00',\n",
       "  'pv': 'XF:07BMA-VA{Diag:1-IP:1}I-I',\n",
       "  'to': '2018-04-20T02:33:57-04:00'},\n",
       " 'external_url': 'http://xf07bm-ca1.cs.nsls2.local:17668/',\n",
       " 'run_start': 'dff0dab0-08ed-478d-b041-d38891430b24',\n",
       " 'time': 1524204799.9761238,\n",
       " 'uid': 'empheral-4f154eff-2c8f-4e8c-a511-fe87053dd06c'}"
      ]
     },
     "execution_count": 10,
     "metadata": {},
     "output_type": "execute_result"
    }
   ],
   "source": [
    "# descriptor\n",
    "docs_es[1]"
   ]
  },
  {
   "cell_type": "code",
   "execution_count": 11,
   "metadata": {
    "collapsed": false
   },
   "outputs": [
    {
     "data": {
      "text/plain": [
       "{'data': {'PV1': 1.2e-06},\n",
       " 'descriptor': 'empheral-4f154eff-2c8f-4e8c-a511-fe87053dd06c',\n",
       " 'seq_num': 1,\n",
       " 'time': 1524204800,\n",
       " 'timestamps': {'PV1': 1524204800},\n",
       " 'uid': 'ephemeral-7892bdc8-5cf4-496a-b0e2-726a6fd15101'}"
      ]
     },
     "execution_count": 11,
     "metadata": {},
     "output_type": "execute_result"
    }
   ],
   "source": [
    "# event\n",
    "docs_es[3]"
   ]
  },
  {
   "cell_type": "markdown",
   "metadata": {},
   "source": [
    "### table_given_header"
   ]
  },
  {
   "cell_type": "code",
   "execution_count": 12,
   "metadata": {
    "collapsed": false
   },
   "outputs": [],
   "source": [
    "df = es.table_given_header(header)"
   ]
  },
  {
   "cell_type": "code",
   "execution_count": 13,
   "metadata": {
    "collapsed": false
   },
   "outputs": [
    {
     "data": {
      "text/html": [
       "<div>\n",
       "<table border=\"1\" class=\"dataframe\">\n",
       "  <thead>\n",
       "    <tr style=\"text-align: right;\">\n",
       "      <th></th>\n",
       "      <th>time</th>\n",
       "      <th>PV1</th>\n",
       "      <th>PV2</th>\n",
       "    </tr>\n",
       "  </thead>\n",
       "  <tbody>\n",
       "    <tr>\n",
       "      <th>1</th>\n",
       "      <td>2018-04-20 06:13:17</td>\n",
       "      <td>1.1e-06</td>\n",
       "      <td></td>\n",
       "    </tr>\n",
       "    <tr>\n",
       "      <th>2</th>\n",
       "      <td>2018-04-20 06:13:18</td>\n",
       "      <td></td>\n",
       "      <td>29.4</td>\n",
       "    </tr>\n",
       "    <tr>\n",
       "      <th>3</th>\n",
       "      <td>2018-04-20 06:13:19</td>\n",
       "      <td></td>\n",
       "      <td>29.5</td>\n",
       "    </tr>\n",
       "    <tr>\n",
       "      <th>4</th>\n",
       "      <td>2018-04-20 06:13:20</td>\n",
       "      <td>1.2e-06</td>\n",
       "      <td>29.4</td>\n",
       "    </tr>\n",
       "    <tr>\n",
       "      <th>5</th>\n",
       "      <td>2018-04-20 06:13:21</td>\n",
       "      <td>1.1e-06</td>\n",
       "      <td></td>\n",
       "    </tr>\n",
       "    <tr>\n",
       "      <th>6</th>\n",
       "      <td>2018-04-20 06:13:24</td>\n",
       "      <td></td>\n",
       "      <td>29.5</td>\n",
       "    </tr>\n",
       "    <tr>\n",
       "      <th>7</th>\n",
       "      <td>2018-04-20 06:13:25</td>\n",
       "      <td></td>\n",
       "      <td>29.4</td>\n",
       "    </tr>\n",
       "    <tr>\n",
       "      <th>8</th>\n",
       "      <td>2018-04-20 06:13:26</td>\n",
       "      <td>1.2e-06</td>\n",
       "      <td></td>\n",
       "    </tr>\n",
       "    <tr>\n",
       "      <th>9</th>\n",
       "      <td>2018-04-20 06:13:27</td>\n",
       "      <td>1.1e-06</td>\n",
       "      <td></td>\n",
       "    </tr>\n",
       "    <tr>\n",
       "      <th>10</th>\n",
       "      <td>2018-04-20 06:13:28</td>\n",
       "      <td></td>\n",
       "      <td>29.3</td>\n",
       "    </tr>\n",
       "    <tr>\n",
       "      <th>11</th>\n",
       "      <td>2018-04-20 06:13:29</td>\n",
       "      <td>1.2e-06</td>\n",
       "      <td>29.4</td>\n",
       "    </tr>\n",
       "    <tr>\n",
       "      <th>12</th>\n",
       "      <td>2018-04-20 06:13:31</td>\n",
       "      <td>1.1e-06</td>\n",
       "      <td></td>\n",
       "    </tr>\n",
       "    <tr>\n",
       "      <th>13</th>\n",
       "      <td>2018-04-20 06:13:33</td>\n",
       "      <td>1.2e-06</td>\n",
       "      <td></td>\n",
       "    </tr>\n",
       "    <tr>\n",
       "      <th>14</th>\n",
       "      <td>2018-04-20 06:13:35</td>\n",
       "      <td></td>\n",
       "      <td>29.3</td>\n",
       "    </tr>\n",
       "    <tr>\n",
       "      <th>15</th>\n",
       "      <td>2018-04-20 06:13:36</td>\n",
       "      <td></td>\n",
       "      <td>29.4</td>\n",
       "    </tr>\n",
       "    <tr>\n",
       "      <th>16</th>\n",
       "      <td>2018-04-20 06:13:38</td>\n",
       "      <td>1.1e-06</td>\n",
       "      <td></td>\n",
       "    </tr>\n",
       "    <tr>\n",
       "      <th>17</th>\n",
       "      <td>2018-04-20 06:13:39</td>\n",
       "      <td>1.2e-06</td>\n",
       "      <td></td>\n",
       "    </tr>\n",
       "    <tr>\n",
       "      <th>18</th>\n",
       "      <td>2018-04-20 06:13:41</td>\n",
       "      <td>1.1e-06</td>\n",
       "      <td></td>\n",
       "    </tr>\n",
       "    <tr>\n",
       "      <th>19</th>\n",
       "      <td>2018-04-20 06:13:42</td>\n",
       "      <td>1.2e-06</td>\n",
       "      <td></td>\n",
       "    </tr>\n",
       "    <tr>\n",
       "      <th>20</th>\n",
       "      <td>2018-04-20 06:13:43</td>\n",
       "      <td></td>\n",
       "      <td>29.3</td>\n",
       "    </tr>\n",
       "    <tr>\n",
       "      <th>21</th>\n",
       "      <td>2018-04-20 06:13:44</td>\n",
       "      <td>1.1e-06</td>\n",
       "      <td>29.4</td>\n",
       "    </tr>\n",
       "    <tr>\n",
       "      <th>22</th>\n",
       "      <td>2018-04-20 06:13:45</td>\n",
       "      <td></td>\n",
       "      <td>29.3</td>\n",
       "    </tr>\n",
       "    <tr>\n",
       "      <th>23</th>\n",
       "      <td>2018-04-20 06:13:46</td>\n",
       "      <td>1.2e-06</td>\n",
       "      <td>29.4</td>\n",
       "    </tr>\n",
       "    <tr>\n",
       "      <th>24</th>\n",
       "      <td>2018-04-20 06:13:47</td>\n",
       "      <td>1.1e-06</td>\n",
       "      <td></td>\n",
       "    </tr>\n",
       "    <tr>\n",
       "      <th>25</th>\n",
       "      <td>2018-04-20 06:13:48</td>\n",
       "      <td>1.2e-06</td>\n",
       "      <td></td>\n",
       "    </tr>\n",
       "    <tr>\n",
       "      <th>26</th>\n",
       "      <td>2018-04-20 06:13:49</td>\n",
       "      <td>1.1e-06</td>\n",
       "      <td></td>\n",
       "    </tr>\n",
       "    <tr>\n",
       "      <th>27</th>\n",
       "      <td>2018-04-20 06:13:51</td>\n",
       "      <td></td>\n",
       "      <td>29.3</td>\n",
       "    </tr>\n",
       "    <tr>\n",
       "      <th>28</th>\n",
       "      <td>2018-04-20 06:13:52</td>\n",
       "      <td></td>\n",
       "      <td>29.4</td>\n",
       "    </tr>\n",
       "    <tr>\n",
       "      <th>29</th>\n",
       "      <td>2018-04-20 06:13:53</td>\n",
       "      <td></td>\n",
       "      <td>29.5</td>\n",
       "    </tr>\n",
       "    <tr>\n",
       "      <th>30</th>\n",
       "      <td>2018-04-20 06:13:54</td>\n",
       "      <td></td>\n",
       "      <td>29.4</td>\n",
       "    </tr>\n",
       "    <tr>\n",
       "      <th>...</th>\n",
       "      <td>...</td>\n",
       "      <td>...</td>\n",
       "      <td>...</td>\n",
       "    </tr>\n",
       "    <tr>\n",
       "      <th>596</th>\n",
       "      <td>2018-04-20 06:32:28</td>\n",
       "      <td></td>\n",
       "      <td>29.4</td>\n",
       "    </tr>\n",
       "    <tr>\n",
       "      <th>597</th>\n",
       "      <td>2018-04-20 06:32:33</td>\n",
       "      <td>1.2e-06</td>\n",
       "      <td></td>\n",
       "    </tr>\n",
       "    <tr>\n",
       "      <th>598</th>\n",
       "      <td>2018-04-20 06:32:35</td>\n",
       "      <td>1.1e-06</td>\n",
       "      <td></td>\n",
       "    </tr>\n",
       "    <tr>\n",
       "      <th>599</th>\n",
       "      <td>2018-04-20 06:32:53</td>\n",
       "      <td></td>\n",
       "      <td>29.5</td>\n",
       "    </tr>\n",
       "    <tr>\n",
       "      <th>600</th>\n",
       "      <td>2018-04-20 06:32:54</td>\n",
       "      <td></td>\n",
       "      <td>29.4</td>\n",
       "    </tr>\n",
       "    <tr>\n",
       "      <th>601</th>\n",
       "      <td>2018-04-20 06:32:56</td>\n",
       "      <td></td>\n",
       "      <td>29.3</td>\n",
       "    </tr>\n",
       "    <tr>\n",
       "      <th>602</th>\n",
       "      <td>2018-04-20 06:32:57</td>\n",
       "      <td></td>\n",
       "      <td>29.4</td>\n",
       "    </tr>\n",
       "    <tr>\n",
       "      <th>603</th>\n",
       "      <td>2018-04-20 06:33:07</td>\n",
       "      <td></td>\n",
       "      <td>29.3</td>\n",
       "    </tr>\n",
       "    <tr>\n",
       "      <th>604</th>\n",
       "      <td>2018-04-20 06:33:08</td>\n",
       "      <td></td>\n",
       "      <td>29.4</td>\n",
       "    </tr>\n",
       "    <tr>\n",
       "      <th>605</th>\n",
       "      <td>2018-04-20 06:33:16</td>\n",
       "      <td></td>\n",
       "      <td>29.3</td>\n",
       "    </tr>\n",
       "    <tr>\n",
       "      <th>606</th>\n",
       "      <td>2018-04-20 06:33:17</td>\n",
       "      <td></td>\n",
       "      <td>29.4</td>\n",
       "    </tr>\n",
       "    <tr>\n",
       "      <th>607</th>\n",
       "      <td>2018-04-20 06:33:18</td>\n",
       "      <td></td>\n",
       "      <td>29.5</td>\n",
       "    </tr>\n",
       "    <tr>\n",
       "      <th>608</th>\n",
       "      <td>2018-04-20 06:33:19</td>\n",
       "      <td></td>\n",
       "      <td>29.4</td>\n",
       "    </tr>\n",
       "    <tr>\n",
       "      <th>609</th>\n",
       "      <td>2018-04-20 06:33:21</td>\n",
       "      <td></td>\n",
       "      <td>29.3</td>\n",
       "    </tr>\n",
       "    <tr>\n",
       "      <th>610</th>\n",
       "      <td>2018-04-20 06:33:22</td>\n",
       "      <td></td>\n",
       "      <td>29.4</td>\n",
       "    </tr>\n",
       "    <tr>\n",
       "      <th>611</th>\n",
       "      <td>2018-04-20 06:33:25</td>\n",
       "      <td></td>\n",
       "      <td>29.5</td>\n",
       "    </tr>\n",
       "    <tr>\n",
       "      <th>612</th>\n",
       "      <td>2018-04-20 06:33:26</td>\n",
       "      <td></td>\n",
       "      <td>29.4</td>\n",
       "    </tr>\n",
       "    <tr>\n",
       "      <th>613</th>\n",
       "      <td>2018-04-20 06:33:30</td>\n",
       "      <td>1e-06</td>\n",
       "      <td></td>\n",
       "    </tr>\n",
       "    <tr>\n",
       "      <th>614</th>\n",
       "      <td>2018-04-20 06:33:31</td>\n",
       "      <td>1.1e-06</td>\n",
       "      <td></td>\n",
       "    </tr>\n",
       "    <tr>\n",
       "      <th>615</th>\n",
       "      <td>2018-04-20 06:33:40</td>\n",
       "      <td></td>\n",
       "      <td>29.5</td>\n",
       "    </tr>\n",
       "    <tr>\n",
       "      <th>616</th>\n",
       "      <td>2018-04-20 06:33:41</td>\n",
       "      <td>1e-06</td>\n",
       "      <td></td>\n",
       "    </tr>\n",
       "    <tr>\n",
       "      <th>617</th>\n",
       "      <td>2018-04-20 06:33:42</td>\n",
       "      <td>1.1e-06</td>\n",
       "      <td>29.4</td>\n",
       "    </tr>\n",
       "    <tr>\n",
       "      <th>618</th>\n",
       "      <td>2018-04-20 06:33:44</td>\n",
       "      <td>1e-06</td>\n",
       "      <td></td>\n",
       "    </tr>\n",
       "    <tr>\n",
       "      <th>619</th>\n",
       "      <td>2018-04-20 06:33:45</td>\n",
       "      <td>1.1e-06</td>\n",
       "      <td></td>\n",
       "    </tr>\n",
       "    <tr>\n",
       "      <th>620</th>\n",
       "      <td>2018-04-20 06:33:48</td>\n",
       "      <td>1e-06</td>\n",
       "      <td></td>\n",
       "    </tr>\n",
       "    <tr>\n",
       "      <th>621</th>\n",
       "      <td>2018-04-20 06:33:49</td>\n",
       "      <td></td>\n",
       "      <td>29.5</td>\n",
       "    </tr>\n",
       "    <tr>\n",
       "      <th>622</th>\n",
       "      <td>2018-04-20 06:33:50</td>\n",
       "      <td>1.1e-06</td>\n",
       "      <td>29.4</td>\n",
       "    </tr>\n",
       "    <tr>\n",
       "      <th>623</th>\n",
       "      <td>2018-04-20 06:33:53</td>\n",
       "      <td></td>\n",
       "      <td>29.3</td>\n",
       "    </tr>\n",
       "    <tr>\n",
       "      <th>624</th>\n",
       "      <td>2018-04-20 06:33:54</td>\n",
       "      <td>1e-06</td>\n",
       "      <td>29.4</td>\n",
       "    </tr>\n",
       "    <tr>\n",
       "      <th>625</th>\n",
       "      <td>2018-04-20 06:33:56</td>\n",
       "      <td>1.1e-06</td>\n",
       "      <td></td>\n",
       "    </tr>\n",
       "  </tbody>\n",
       "</table>\n",
       "<p>625 rows × 3 columns</p>\n",
       "</div>"
      ],
      "text/plain": [
       "                   time      PV1   PV2\n",
       "1   2018-04-20 06:13:17  1.1e-06      \n",
       "2   2018-04-20 06:13:18           29.4\n",
       "3   2018-04-20 06:13:19           29.5\n",
       "4   2018-04-20 06:13:20  1.2e-06  29.4\n",
       "5   2018-04-20 06:13:21  1.1e-06      \n",
       "6   2018-04-20 06:13:24           29.5\n",
       "7   2018-04-20 06:13:25           29.4\n",
       "8   2018-04-20 06:13:26  1.2e-06      \n",
       "9   2018-04-20 06:13:27  1.1e-06      \n",
       "10  2018-04-20 06:13:28           29.3\n",
       "11  2018-04-20 06:13:29  1.2e-06  29.4\n",
       "12  2018-04-20 06:13:31  1.1e-06      \n",
       "13  2018-04-20 06:13:33  1.2e-06      \n",
       "14  2018-04-20 06:13:35           29.3\n",
       "15  2018-04-20 06:13:36           29.4\n",
       "16  2018-04-20 06:13:38  1.1e-06      \n",
       "17  2018-04-20 06:13:39  1.2e-06      \n",
       "18  2018-04-20 06:13:41  1.1e-06      \n",
       "19  2018-04-20 06:13:42  1.2e-06      \n",
       "20  2018-04-20 06:13:43           29.3\n",
       "21  2018-04-20 06:13:44  1.1e-06  29.4\n",
       "22  2018-04-20 06:13:45           29.3\n",
       "23  2018-04-20 06:13:46  1.2e-06  29.4\n",
       "24  2018-04-20 06:13:47  1.1e-06      \n",
       "25  2018-04-20 06:13:48  1.2e-06      \n",
       "26  2018-04-20 06:13:49  1.1e-06      \n",
       "27  2018-04-20 06:13:51           29.3\n",
       "28  2018-04-20 06:13:52           29.4\n",
       "29  2018-04-20 06:13:53           29.5\n",
       "30  2018-04-20 06:13:54           29.4\n",
       "..                  ...      ...   ...\n",
       "596 2018-04-20 06:32:28           29.4\n",
       "597 2018-04-20 06:32:33  1.2e-06      \n",
       "598 2018-04-20 06:32:35  1.1e-06      \n",
       "599 2018-04-20 06:32:53           29.5\n",
       "600 2018-04-20 06:32:54           29.4\n",
       "601 2018-04-20 06:32:56           29.3\n",
       "602 2018-04-20 06:32:57           29.4\n",
       "603 2018-04-20 06:33:07           29.3\n",
       "604 2018-04-20 06:33:08           29.4\n",
       "605 2018-04-20 06:33:16           29.3\n",
       "606 2018-04-20 06:33:17           29.4\n",
       "607 2018-04-20 06:33:18           29.5\n",
       "608 2018-04-20 06:33:19           29.4\n",
       "609 2018-04-20 06:33:21           29.3\n",
       "610 2018-04-20 06:33:22           29.4\n",
       "611 2018-04-20 06:33:25           29.5\n",
       "612 2018-04-20 06:33:26           29.4\n",
       "613 2018-04-20 06:33:30    1e-06      \n",
       "614 2018-04-20 06:33:31  1.1e-06      \n",
       "615 2018-04-20 06:33:40           29.5\n",
       "616 2018-04-20 06:33:41    1e-06      \n",
       "617 2018-04-20 06:33:42  1.1e-06  29.4\n",
       "618 2018-04-20 06:33:44    1e-06      \n",
       "619 2018-04-20 06:33:45  1.1e-06      \n",
       "620 2018-04-20 06:33:48    1e-06      \n",
       "621 2018-04-20 06:33:49           29.5\n",
       "622 2018-04-20 06:33:50  1.1e-06  29.4\n",
       "623 2018-04-20 06:33:53           29.3\n",
       "624 2018-04-20 06:33:54    1e-06  29.4\n",
       "625 2018-04-20 06:33:56  1.1e-06      \n",
       "\n",
       "[625 rows x 3 columns]"
      ]
     },
     "execution_count": 13,
     "metadata": {},
     "output_type": "execute_result"
    }
   ],
   "source": [
    "df"
   ]
  },
  {
   "cell_type": "code",
   "execution_count": null,
   "metadata": {
    "collapsed": true
   },
   "outputs": [],
   "source": []
  }
 ],
 "metadata": {
  "anaconda-cloud": {},
  "kernelspec": {
   "display_name": "Python [default]",
   "language": "python",
   "name": "python3"
  },
  "language_info": {
   "codemirror_mode": {
    "name": "ipython",
    "version": 3
   },
   "file_extension": ".py",
   "mimetype": "text/x-python",
   "name": "python",
   "nbconvert_exporter": "python",
   "pygments_lexer": "ipython3",
   "version": "3.5.2"
  }
 },
 "nbformat": 4,
 "nbformat_minor": 1
}
