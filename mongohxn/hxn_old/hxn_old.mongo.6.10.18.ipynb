{
 "cells": [
  {
   "cell_type": "markdown",
   "metadata": {},
   "source": [
    "# HXN Old Database"
   ]
  },
  {
   "cell_type": "code",
   "execution_count": 1,
   "metadata": {
    "collapsed": false
   },
   "outputs": [],
   "source": [
    "from datetime import datetime\n",
    "\n",
    "import numpy as np\n",
    "import matplotlib.pyplot as plt\n",
    "import h5py\n",
    "\n",
    "import pprint\n",
    "\n",
    "import pymongo\n",
    "from pymongo import MongoClient\n",
    "\n",
    "# make graphics inline\n",
    "%matplotlib inline"
   ]
  },
  {
   "cell_type": "code",
   "execution_count": 3,
   "metadata": {
    "collapsed": false
   },
   "outputs": [],
   "source": [
    "client = MongoClient('gpu-001', 27019)\n",
    "ds = client['datastore']\n",
    "fs = client['filestore']"
   ]
  },
  {
   "cell_type": "markdown",
   "metadata": {},
   "source": [
    "## run_start collection"
   ]
  },
  {
   "cell_type": "code",
   "execution_count": 6,
   "metadata": {
    "collapsed": false
   },
   "outputs": [
    {
     "name": "stdout",
     "output_type": "stream",
     "text": [
      "32058 8489 32948\n"
     ]
    }
   ],
   "source": [
    "run_starts = ds['run_start']\n",
    "t1 = datetime.now();\n",
    "run_start_docs = [doc for doc in run_starts.find({}, {\"_id\":0})]\n",
    "t2 = datetime.now();\n",
    "print(run_starts.count(), run_start_docs[0]['scan_id'], run_start_docs[-1]['scan_id'])"
   ]
  },
  {
   "cell_type": "markdown",
   "metadata": {},
   "source": [
    "## run_stop collection"
   ]
  },
  {
   "cell_type": "code",
   "execution_count": 7,
   "metadata": {
    "collapsed": false
   },
   "outputs": [
    {
     "name": "stdout",
     "output_type": "stream",
     "text": [
      "32657 time: 0:00:00.229104  seconds\n"
     ]
    }
   ],
   "source": [
    "run_stops = ds['run_stop']\n",
    "t1 = datetime.now();\n",
    "run_stop_docs = [doc for doc in run_stops.find({}, {\"_id\":0})]\n",
    "t2 = datetime.now();\n",
    "print(run_stops.count(), \"time:\", (t2 - t1), \" seconds\")"
   ]
  },
  {
   "cell_type": "markdown",
   "metadata": {},
   "source": [
    "## event_descriptor collection"
   ]
  },
  {
   "cell_type": "code",
   "execution_count": 8,
   "metadata": {
    "collapsed": false
   },
   "outputs": [
    {
     "name": "stdout",
     "output_type": "stream",
     "text": [
      "56797 time: 0:00:33.198419  seconds\n"
     ]
    }
   ],
   "source": [
    "event_descriptors = ds['event_descriptor']\n",
    "t1 = datetime.now();\n",
    "event_descriptor_docs = [doc for doc in event_descriptors.find({}, {\"_id\":0})]\n",
    "t2 = datetime.now();\n",
    "print(event_descriptors.count(), \"time:\", (t2 - t1), \" seconds\")"
   ]
  },
  {
   "cell_type": "markdown",
   "metadata": {},
   "source": [
    "## event collection"
   ]
  },
  {
   "cell_type": "code",
   "execution_count": 9,
   "metadata": {
    "collapsed": false
   },
   "outputs": [
    {
     "name": "stdout",
     "output_type": "stream",
     "text": [
      "93790259\n"
     ]
    }
   ],
   "source": [
    "events = ds['event']\n",
    "print(events.count())"
   ]
  },
  {
   "cell_type": "markdown",
   "metadata": {},
   "source": [
    "## datum collection"
   ]
  },
  {
   "cell_type": "code",
   "execution_count": 10,
   "metadata": {
    "collapsed": false
   },
   "outputs": [
    {
     "name": "stdout",
     "output_type": "stream",
     "text": [
      "447008357\n"
     ]
    }
   ],
   "source": [
    "datum = fs['datum']\n",
    "print(datum.count())"
   ]
  },
  {
   "cell_type": "markdown",
   "metadata": {},
   "source": [
    "## resource collection"
   ]
  },
  {
   "cell_type": "code",
   "execution_count": 11,
   "metadata": {
    "collapsed": false
   },
   "outputs": [],
   "source": [
    "resources = fs['resource']"
   ]
  },
  {
   "cell_type": "code",
   "execution_count": 12,
   "metadata": {
    "collapsed": false
   },
   "outputs": [
    {
     "name": "stdout",
     "output_type": "stream",
     "text": [
      "63409 time: 0:00:00.617671  seconds\n"
     ]
    }
   ],
   "source": [
    "t1 = datetime.now();\n",
    "res_docs = [doc for doc in resources.find({}, {\"_id\":0})]\n",
    "t2 = datetime.now();\n",
    "print(resources.count(), \"time:\", (t2 - t1), \" seconds\")"
   ]
  },
  {
   "cell_type": "code",
   "execution_count": 13,
   "metadata": {
    "collapsed": false
   },
   "outputs": [],
   "source": [
    "client.close()"
   ]
  },
  {
   "cell_type": "code",
   "execution_count": null,
   "metadata": {
    "collapsed": true
   },
   "outputs": [],
   "source": []
  }
 ],
 "metadata": {
  "anaconda-cloud": {},
  "kernelspec": {
   "display_name": "Python [default]",
   "language": "python",
   "name": "python3"
  },
  "language_info": {
   "codemirror_mode": {
    "name": "ipython",
    "version": 3
   },
   "file_extension": ".py",
   "mimetype": "text/x-python",
   "name": "python",
   "nbconvert_exporter": "python",
   "pygments_lexer": "ipython3",
   "version": "3.5.2"
  }
 },
 "nbformat": 4,
 "nbformat_minor": 1
}
