{
 "cells": [
  {
   "cell_type": "markdown",
   "metadata": {},
   "source": [
    "# Test Scan 53471"
   ]
  },
  {
   "cell_type": "markdown",
   "metadata": {},
   "source": [
    "## Data comparison between two MongoDB databases"
   ]
  },
  {
   "cell_type": "code",
   "execution_count": 1,
   "metadata": {},
   "outputs": [],
   "source": [
    "from datetime import datetime\n",
    "\n",
    "import warnings\n",
    "warnings.filterwarnings('ignore')\n",
    "\n",
    "# make graphics inline\n",
    "%matplotlib inline\n",
    "\n",
    "from databroker import Broker"
   ]
  },
  {
   "cell_type": "code",
   "execution_count": 2,
   "metadata": {},
   "outputs": [],
   "source": [
    "scan_id = 53471"
   ]
  },
  {
   "cell_type": "markdown",
   "metadata": {},
   "source": [
    "## databrokers and headers"
   ]
  },
  {
   "cell_type": "code",
   "execution_count": 3,
   "metadata": {},
   "outputs": [],
   "source": [
    "db_new = Broker.named('mdb01-new')\n",
    "hdr_new = db_new[scan_id]\n",
    "db_1 = Broker.named('ca1-1')\n",
    "hdr_1 = db_1[scan_id]"
   ]
  },
  {
   "cell_type": "markdown",
   "metadata": {},
   "source": [
    "## run_start, run_stop, event_descriptors, and events"
   ]
  },
  {
   "cell_type": "code",
   "execution_count": 4,
   "metadata": {},
   "outputs": [],
   "source": [
    "from math import isnan\n",
    "def clean_data(t):\n",
    "    if t[0] == 'event': \n",
    "        for k in list(t[1]['data'].keys()):\n",
    "            v = t[1]['data'][k]\n",
    "            if type(v) != str:\n",
    "                if isnan(v):\n",
    "                    t[1]['data'][k] = 'nan'   \n",
    "    return t"
   ]
  },
  {
   "cell_type": "code",
   "execution_count": 5,
   "metadata": {},
   "outputs": [],
   "source": [
    "doc_gen_new = db_new.get_documents(hdr_new, fill=False)\n",
    "doc_gen_1 = db_1.get_documents(hdr_1, fill=False)\n",
    "\n",
    "results = []\n",
    "for x, y in zip(doc_gen_new, doc_gen_1):\n",
    "    x = clean_data(x)\n",
    "    y = clean_data(y)\n",
    "    results.append(x == y)"
   ]
  },
  {
   "cell_type": "code",
   "execution_count": 6,
   "metadata": {},
   "outputs": [
    {
     "name": "stdout",
     "output_type": "stream",
     "text": [
      "True 10006\n"
     ]
    }
   ],
   "source": [
    "print(any(results), len(results))"
   ]
  },
  {
   "cell_type": "markdown",
   "metadata": {},
   "source": [
    "## resource collection"
   ]
  },
  {
   "cell_type": "code",
   "execution_count": 7,
   "metadata": {},
   "outputs": [],
   "source": [
    "res_uids_new = list(db_new.get_resource_uids(hdr_new))\n",
    "res_uids_1 = list(db_1.get_resource_uids(hdr_1))"
   ]
  },
  {
   "cell_type": "code",
   "execution_count": 8,
   "metadata": {},
   "outputs": [
    {
     "data": {
      "text/plain": [
       "True"
      ]
     },
     "execution_count": 8,
     "metadata": {},
     "output_type": "execute_result"
    }
   ],
   "source": [
    "res_uids_new == res_uids_1"
   ]
  },
  {
   "cell_type": "code",
   "execution_count": 9,
   "metadata": {},
   "outputs": [],
   "source": [
    "results = []\n",
    "for uid in res_uids_new:\n",
    "    res_doc_new = db_new.reg.resource_given_uid(uid)\n",
    "    res_doc_1 = db_1.reg.resource_given_uid(uid)   \n",
    "    results.append(res_doc_new == res_doc_1)"
   ]
  },
  {
   "cell_type": "code",
   "execution_count": 10,
   "metadata": {},
   "outputs": [
    {
     "name": "stdout",
     "output_type": "stream",
     "text": [
      "True 2\n"
     ]
    }
   ],
   "source": [
    "print(any(results), len(results))"
   ]
  },
  {
   "cell_type": "markdown",
   "metadata": {},
   "source": [
    "## datum collection"
   ]
  },
  {
   "cell_type": "code",
   "execution_count": 11,
   "metadata": {},
   "outputs": [],
   "source": [
    "results = []\n",
    "for res_uid in res_uids_new:\n",
    "    datum_gen_new = db_new.reg.datum_gen_given_resource(res_uid)\n",
    "    datum_gen_1 = db_1.reg.datum_gen_given_resource(res_uid)\n",
    "    for datum_new, datum_1 in zip(datum_gen_new, datum_gen_1):\n",
    "        datum_new.pop('_id')\n",
    "        datum_1.pop('_id')\n",
    "        results.append(datum_new == datum_1)"
   ]
  },
  {
   "cell_type": "code",
   "execution_count": 12,
   "metadata": {},
   "outputs": [
    {
     "name": "stdout",
     "output_type": "stream",
     "text": [
      "True 40000\n"
     ]
    }
   ],
   "source": [
    "print(any(results), len(results))"
   ]
  },
  {
   "cell_type": "code",
   "execution_count": null,
   "metadata": {},
   "outputs": [],
   "source": []
  }
 ],
 "metadata": {
  "kernelspec": {
   "display_name": "Python 3",
   "language": "python",
   "name": "python3"
  },
  "language_info": {
   "codemirror_mode": {
    "name": "ipython",
    "version": 3
   },
   "file_extension": ".py",
   "mimetype": "text/x-python",
   "name": "python",
   "nbconvert_exporter": "python",
   "pygments_lexer": "ipython3",
   "version": "3.6.5"
  }
 },
 "nbformat": 4,
 "nbformat_minor": 2
}
