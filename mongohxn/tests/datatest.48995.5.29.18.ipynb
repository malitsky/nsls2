{
 "cells": [
  {
   "cell_type": "markdown",
   "metadata": {},
   "source": [
    "# Test Scan 48995\n",
    "## Data comparison between two MongoDB databases. May 29, 2017"
   ]
  },
  {
   "cell_type": "code",
   "execution_count": 56,
   "metadata": {},
   "outputs": [],
   "source": [
    "from datetime import datetime\n",
    "\n",
    "import warnings\n",
    "warnings.filterwarnings('ignore')\n",
    "\n",
    "import numpy as np\n",
    "import math\n",
    "import matplotlib.pyplot as plt\n",
    "import h5py\n",
    "\n",
    "import pprint\n",
    "\n",
    "import pymongo\n",
    "from pymongo import MongoClient\n",
    "\n",
    "# make graphics inline\n",
    "%matplotlib inline"
   ]
  },
  {
   "cell_type": "code",
   "execution_count": 2,
   "metadata": {},
   "outputs": [],
   "source": [
    "scanid = 48995"
   ]
  },
  {
   "cell_type": "code",
   "execution_count": 91,
   "metadata": {},
   "outputs": [],
   "source": [
    "class MongoDataTest(object):\n",
    "    \n",
    "    def __init__(self, hostname, port, ds, fs):\n",
    "        self.hostname = hostname\n",
    "        self.port = port\n",
    "        self.ds = ds\n",
    "        self.fs = fs\n",
    "        \n",
    "    def get_data(self, scanid):\n",
    "        \n",
    "        client = MongoClient(self.hostname, self.port)\n",
    "        ds = client[self.ds]\n",
    "        fs = client[self.fs]\n",
    "        \n",
    "        data = {}\n",
    "        run_starts = ds['run_start']\n",
    "        run_start_docs = [doc for doc in run_starts.find({'scan_id' : scanid}, {\"_id\":0})]\n",
    "        run_start_doc = run_start_docs[0]\n",
    "        data['run_start'] = run_start_docs\n",
    "        \n",
    "        run_stops = ds['run_stop']\n",
    "        run_stop_docs = [doc for doc in run_stops.find({'run_start' : run_start_doc['uid']}, {\"_id\":0})]\n",
    "        data['run_stop'] = run_stop_docs\n",
    "        \n",
    "        event_descriptors = ds['event_descriptor']\n",
    "        event_descriptor_docs = [doc for doc in event_descriptors.find({'run_start' : run_start_doc['uid']}, {\"_id\":0})]\n",
    "        data['event_descriptor'] = event_descriptor_docs\n",
    "        \n",
    "        events = ds['event']\n",
    "        event_docs = []\n",
    "        primary_event_docs = []\n",
    "        for edd in event_descriptor_docs:\n",
    "            docs = [doc for doc in events.find({'descriptor' : edd['uid']}, {\"_id\":0})]\n",
    "            if edd['name'] == 'primary':\n",
    "                primary_event_docs = docs\n",
    "            if edd['name'] == 'baseline':\n",
    "                for doc in docs:\n",
    "                    for k in list(doc['data'].keys()):\n",
    "                        v = doc['data'][k]\n",
    "                        if type(v) != str:\n",
    "                            if np.isnan(v) :\n",
    "                                doc['data'][k] = 'nan'\n",
    "            event_docs += docs\n",
    "        data['event'] = event_docs\n",
    "        \n",
    "        datum = fs['datum']\n",
    "        datum_docs = []\n",
    "        res_ids = []\n",
    "        for k in ['merlin1', 'xspress3_ch1', 'xspress3_ch2', 'xspress3_ch3']:\n",
    "            ids = [event_doc['data'][k] for event_doc in primary_event_docs]\n",
    "            d_docs = [doc for doc in datum.find({'datum_id' : {'$in' : ids}}, {\"_id\":0})] \n",
    "            res_ids += [doc['resource'] for doc in d_docs]\n",
    "            datum_docs += d_docs\n",
    "        data['datum'] = datum_docs\n",
    "        \n",
    "        resources = fs['resource']\n",
    "        set_res_ids = set(res_ids)\n",
    "        resource_docs = [doc for doc in resources.find({'uid' : {'$in' : list(set_res_ids)}}, {\"_id\":0})]\n",
    "        data['resource'] = resource_docs\n",
    "        \n",
    "        client.close()\n",
    "        \n",
    "        return data"
   ]
  },
  {
   "cell_type": "code",
   "execution_count": 92,
   "metadata": {},
   "outputs": [
    {
     "name": "stdout",
     "output_type": "stream",
     "text": [
      "time: 0:00:03.221713  seconds\n"
     ]
    }
   ],
   "source": [
    "mdb01Test = MongoDataTest('xf03id1-mdb01', 27017, 'datastore-new', 'filestore-new')\n",
    "t1 = datetime.now();\n",
    "mdb01Data = mdb01Test.get_data(scanid)\n",
    "t2 = datetime.now();\n",
    "print(\"time:\", (t2 - t1), \" seconds\")"
   ]
  },
  {
   "cell_type": "code",
   "execution_count": 93,
   "metadata": {},
   "outputs": [
    {
     "name": "stdout",
     "output_type": "stream",
     "text": [
      "time: 0:00:01.692206  seconds\n"
     ]
    }
   ],
   "source": [
    "ca1Test = MongoDataTest('xf03id-ca1', 27017, 'datastore-1', 'filestore-1')\n",
    "t1 = datetime.now();\n",
    "ca1Data = ca1Test.get_data(scanid)\n",
    "t2 = datetime.now();\n",
    "print(\"time:\", (t2 - t1), \" seconds\")"
   ]
  },
  {
   "cell_type": "code",
   "execution_count": 94,
   "metadata": {},
   "outputs": [
    {
     "name": "stdout",
     "output_type": "stream",
     "text": [
      "run_start 1 1 False\n",
      "run_stop 1 1 False\n",
      "event_descriptor 2 2 False\n",
      "event 10002 10002 False\n",
      "datum 40000 40000 False\n",
      "resource 2 2 False\n"
     ]
    }
   ],
   "source": [
    "for colname in ['run_start', 'run_stop', 'event_descriptor', 'event', 'datum', 'resource']:\n",
    "    print(colname, len(mdb01Data[colname]), len(ca1Data[colname]), mdb01Data[colname] != ca1Data[colname])"
   ]
  },
  {
   "cell_type": "code",
   "execution_count": null,
   "metadata": {
    "collapsed": true
   },
   "outputs": [],
   "source": []
  }
 ],
 "metadata": {
  "anaconda-cloud": {},
  "kernelspec": {
   "display_name": "Python 3",
   "language": "python",
   "name": "python3"
  },
  "language_info": {
   "codemirror_mode": {
    "name": "ipython",
    "version": 3
   },
   "file_extension": ".py",
   "mimetype": "text/x-python",
   "name": "python",
   "nbconvert_exporter": "python",
   "pygments_lexer": "ipython3",
   "version": "3.6.5"
  }
 },
 "nbformat": 4,
 "nbformat_minor": 1
}
