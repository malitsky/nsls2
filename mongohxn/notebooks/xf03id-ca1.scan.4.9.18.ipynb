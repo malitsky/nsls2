{
 "cells": [
  {
   "cell_type": "markdown",
   "metadata": {},
   "source": [
    "# Test Scan\n",
    "\n",
    "## Old MongoDB database. April 9, 2017"
   ]
  },
  {
   "cell_type": "code",
   "execution_count": 1,
   "metadata": {
    "collapsed": false
   },
   "outputs": [],
   "source": [
    "from datetime import datetime\n",
    "\n",
    "import numpy as np\n",
    "import matplotlib.pyplot as plt\n",
    "import h5py\n",
    "\n",
    "import pprint\n",
    "\n",
    "import pymongo\n",
    "from pymongo import MongoClient\n",
    "\n",
    "# make graphics inline\n",
    "%matplotlib inline"
   ]
  },
  {
   "cell_type": "code",
   "execution_count": 2,
   "metadata": {
    "collapsed": true
   },
   "outputs": [],
   "source": [
    "client = MongoClient('xf03id-ca1', 27017)"
   ]
  },
  {
   "cell_type": "code",
   "execution_count": 3,
   "metadata": {
    "collapsed": true
   },
   "outputs": [],
   "source": [
    "ds = client['datastore-new']\n",
    "fs = client['filestore-new']"
   ]
  },
  {
   "cell_type": "markdown",
   "metadata": {},
   "source": [
    "## run_start collection"
   ]
  },
  {
   "cell_type": "code",
   "execution_count": 4,
   "metadata": {
    "collapsed": false
   },
   "outputs": [
    {
     "name": "stdout",
     "output_type": "stream",
     "text": [
      "14955 14955 time: 0:00:01.107564  seconds\n"
     ]
    }
   ],
   "source": [
    "run_starts = ds['run_start']\n",
    "t1 = datetime.now();\n",
    "run_start_docs = [doc for doc in run_starts.find({})]\n",
    "t2 = datetime.now();\n",
    "print(run_starts.count(), len(run_start_docs), \"time:\", (t2 - t1), \" seconds\")"
   ]
  },
  {
   "cell_type": "code",
   "execution_count": 5,
   "metadata": {
    "collapsed": false
   },
   "outputs": [
    {
     "data": {
      "text/plain": [
       "47993"
      ]
     },
     "execution_count": 5,
     "metadata": {},
     "output_type": "execute_result"
    }
   ],
   "source": [
    "scan_ids = [doc['scan_id'] for doc in run_start_docs]\n",
    "max(scan_ids)"
   ]
  },
  {
   "cell_type": "code",
   "execution_count": 6,
   "metadata": {
    "collapsed": false
   },
   "outputs": [
    {
     "name": "stdout",
     "output_type": "stream",
     "text": [
      "scan id: 47993 time: 2018-04-09 11:23:28.811702 () uid: 124a4ae9-c714-4685-92f9-4f258ff5a313\n"
     ]
    }
   ],
   "source": [
    "run_start_doc = run_start_docs[-1]\n",
    "print(\"scan id:\", run_start_doc['scan_id'], \"time:\",\n",
    "      datetime.fromtimestamp(run_start_doc['time']).strftime(\"%Y-%m-%d %H:%M:%S.%f%z (%Z)\"),\n",
    "     'uid:', run_start_doc['uid'])"
   ]
  },
  {
   "cell_type": "markdown",
   "metadata": {},
   "source": [
    "## run_stop collection"
   ]
  },
  {
   "cell_type": "code",
   "execution_count": 7,
   "metadata": {
    "collapsed": false
   },
   "outputs": [
    {
     "name": "stdout",
     "output_type": "stream",
     "text": [
      "1 time: 0:00:00.002094  seconds\n"
     ]
    }
   ],
   "source": [
    "run_stops = ds['run_stop']\n",
    "t1 = datetime.now();\n",
    "run_stop_docs = [doc for doc in run_stops.find({'run_start' : run_start_doc['uid']})]\n",
    "t2 = datetime.now();\n",
    "print(len(run_stop_docs), \"time:\", (t2 - t1), \" seconds\")"
   ]
  },
  {
   "cell_type": "code",
   "execution_count": 8,
   "metadata": {
    "collapsed": false
   },
   "outputs": [
    {
     "name": "stdout",
     "output_type": "stream",
     "text": [
      "{'_id': ObjectId('5acb91a345e197324448c4f5'),\n",
      " 'exit_status': 'success',\n",
      " 'num_events': {'baseline': 2, 'primary': 40000},\n",
      " 'run_start': '124a4ae9-c714-4685-92f9-4f258ff5a313',\n",
      " 'time': 1523290531.4092565,\n",
      " 'uid': '159ea926-860c-4fe2-a976-256dac0b04b1'}\n"
     ]
    }
   ],
   "source": [
    "run_stop_doc = run_stop_docs[-1]\n",
    "pprint.pprint(run_stop_doc)"
   ]
  },
  {
   "cell_type": "markdown",
   "metadata": {},
   "source": [
    "## event_descriptor collection"
   ]
  },
  {
   "cell_type": "code",
   "execution_count": 9,
   "metadata": {
    "collapsed": false
   },
   "outputs": [
    {
     "name": "stdout",
     "output_type": "stream",
     "text": [
      "2 time: 0:00:00.008720  seconds\n"
     ]
    }
   ],
   "source": [
    "event_descriptors = ds['event_descriptor']\n",
    "t1 = datetime.now();\n",
    "event_descriptor_docs = [doc for doc in event_descriptors.find({'run_start' : run_start_doc['uid']})]\n",
    "t2 = datetime.now();\n",
    "print(len(event_descriptor_docs), \"time:\", (t2 - t1), \" seconds\")"
   ]
  },
  {
   "cell_type": "code",
   "execution_count": 10,
   "metadata": {
    "collapsed": false
   },
   "outputs": [
    {
     "name": "stdout",
     "output_type": "stream",
     "text": [
      "primary\n",
      "baseline\n"
     ]
    }
   ],
   "source": [
    "for event_descriptor_doc in event_descriptor_docs:\n",
    "    print(event_descriptor_doc['name'])"
   ]
  },
  {
   "cell_type": "code",
   "execution_count": 11,
   "metadata": {
    "collapsed": true
   },
   "outputs": [],
   "source": [
    "event_descriptor_doc = event_descriptor_docs[0]"
   ]
  },
  {
   "cell_type": "markdown",
   "metadata": {},
   "source": [
    "## event collection"
   ]
  },
  {
   "cell_type": "code",
   "execution_count": 12,
   "metadata": {
    "collapsed": false
   },
   "outputs": [
    {
     "name": "stdout",
     "output_type": "stream",
     "text": [
      "40000 time: 0:00:03.694099  seconds\n"
     ]
    }
   ],
   "source": [
    "events = ds['event']\n",
    "t1 = datetime.now();\n",
    "event_docs = [doc for doc in events.find({'descriptor' : event_descriptor_doc['uid']})]\n",
    "t2 = datetime.now();\n",
    "print(len(event_docs), \"time:\", (t2 - t1), \" seconds\")"
   ]
  },
  {
   "cell_type": "code",
   "execution_count": 13,
   "metadata": {
    "collapsed": true
   },
   "outputs": [],
   "source": [
    "merlin1_ids = []\n",
    "xspress3_ch1_ids = []\n",
    "xspress3_ch2_ids = []\n",
    "xspress3_ch3_ids = []\n",
    "for doc in event_docs:\n",
    "    merlin1_ids.append(doc['data']['merlin1'])\n",
    "    xspress3_ch1_ids.append(doc['data']['xspress3_ch1'])\n",
    "    xspress3_ch2_ids.append(doc['data']['xspress3_ch2'])\n",
    "    xspress3_ch3_ids.append(doc['data']['xspress3_ch3'])"
   ]
  },
  {
   "cell_type": "markdown",
   "metadata": {},
   "source": [
    "## datum collection"
   ]
  },
  {
   "cell_type": "code",
   "execution_count": 14,
   "metadata": {
    "collapsed": false
   },
   "outputs": [],
   "source": [
    "datum = fs['datum']"
   ]
  },
  {
   "cell_type": "code",
   "execution_count": 15,
   "metadata": {
    "collapsed": false
   },
   "outputs": [
    {
     "name": "stdout",
     "output_type": "stream",
     "text": [
      "40000 time: 0:00:02.161764  seconds\n"
     ]
    }
   ],
   "source": [
    "# check all merlin1_ids\n",
    "t1 = datetime.now();\n",
    "merlin1_docs = [doc for doc in datum.find({'datum_id' : {'$in' : merlin1_ids}})]\n",
    "t2 = datetime.now();\n",
    "print(len(merlin1_docs), \"time:\", (t2 - t1), \" seconds\")"
   ]
  },
  {
   "cell_type": "code",
   "execution_count": 16,
   "metadata": {
    "collapsed": false
   },
   "outputs": [
    {
     "name": "stdout",
     "output_type": "stream",
     "text": [
      "{'cfa53cab-03a7-4118-8497-7744553c7575', 'e452c5f9-5ce5-4deb-bdf5-f02ed1c382fb', '37e60170-63ad-4e22-8646-6dd8fe15df9e'}\n"
     ]
    }
   ],
   "source": [
    "# check the merlin1 resource ids\n",
    "merlin1_res_ids = []\n",
    "for doc in merlin1_docs:\n",
    "    merlin1_res_ids.append(doc['resource'])\n",
    "merlin1_res_set = set(merlin1_res_ids)\n",
    "print(merlin1_res_set)"
   ]
  },
  {
   "cell_type": "code",
   "execution_count": 17,
   "metadata": {
    "collapsed": false
   },
   "outputs": [
    {
     "name": "stdout",
     "output_type": "stream",
     "text": [
      "40000 time: 0:00:02.264129  seconds\n"
     ]
    }
   ],
   "source": [
    "# check all xspress3_ch1_ids\n",
    "t1 = datetime.now();\n",
    "xspress3_ch1_docs = [doc for doc in datum.find({'datum_id' : {'$in' : xspress3_ch1_ids}})]\n",
    "t2 = datetime.now();\n",
    "print(len(xspress3_ch1_docs), \"time:\", (t2 - t1), \" seconds\")"
   ]
  },
  {
   "cell_type": "code",
   "execution_count": 18,
   "metadata": {
    "collapsed": false
   },
   "outputs": [
    {
     "name": "stdout",
     "output_type": "stream",
     "text": [
      "{'fe05b6a5-0111-4b08-8bbc-430801bc5944', '0721695c-8d03-41b9-962a-dd647de8bf4c', '444c61e6-8e80-45f3-a1b9-4f92cf241b5d'}\n"
     ]
    }
   ],
   "source": [
    "# check the xspress3_ch1 resource ids\n",
    "xspress3_ch1_ids = []\n",
    "for doc in xspress3_ch1_docs:\n",
    "    xspress3_ch1_ids.append(doc['resource'])\n",
    "xspress3_ch1_set = set(xspress3_ch1_ids)\n",
    "print(xspress3_ch1_set)"
   ]
  },
  {
   "cell_type": "code",
   "execution_count": 19,
   "metadata": {
    "collapsed": false
   },
   "outputs": [
    {
     "name": "stdout",
     "output_type": "stream",
     "text": [
      "40000 time: 0:00:02.057928  seconds\n"
     ]
    }
   ],
   "source": [
    "# check all xspress3_ch2_ids\n",
    "t1 = datetime.now();\n",
    "xspress3_ch2_docs = [doc for doc in datum.find({'datum_id' : {'$in' : xspress3_ch2_ids}})]\n",
    "t2 = datetime.now();\n",
    "print(len(xspress3_ch2_docs), \"time:\", (t2 - t1), \" seconds\")"
   ]
  },
  {
   "cell_type": "code",
   "execution_count": 20,
   "metadata": {
    "collapsed": false
   },
   "outputs": [
    {
     "name": "stdout",
     "output_type": "stream",
     "text": [
      "{'fe05b6a5-0111-4b08-8bbc-430801bc5944', '444c61e6-8e80-45f3-a1b9-4f92cf241b5d', '0721695c-8d03-41b9-962a-dd647de8bf4c'}\n"
     ]
    }
   ],
   "source": [
    "# check the xspress3_ch2 resource ids\n",
    "xspress3_ch2_ids = []\n",
    "for doc in xspress3_ch2_docs:\n",
    "    xspress3_ch2_ids.append(doc['resource'])\n",
    "xspress3_ch2_set = set(xspress3_ch2_ids)\n",
    "print(xspress3_ch2_set)"
   ]
  },
  {
   "cell_type": "code",
   "execution_count": 21,
   "metadata": {
    "collapsed": false
   },
   "outputs": [
    {
     "name": "stdout",
     "output_type": "stream",
     "text": [
      "40000 time: 0:00:02.412398  seconds\n"
     ]
    }
   ],
   "source": [
    "# check all xspress3_ch3_ids\n",
    "t1 = datetime.now();\n",
    "xspress3_ch3_docs = [doc for doc in datum.find({'datum_id' : {'$in' : xspress3_ch3_ids}})]\n",
    "t2 = datetime.now();\n",
    "print(len(xspress3_ch3_docs), \"time:\", (t2 - t1), \" seconds\")"
   ]
  },
  {
   "cell_type": "code",
   "execution_count": 22,
   "metadata": {
    "collapsed": false
   },
   "outputs": [
    {
     "name": "stdout",
     "output_type": "stream",
     "text": [
      "{'fe05b6a5-0111-4b08-8bbc-430801bc5944', '0721695c-8d03-41b9-962a-dd647de8bf4c', '444c61e6-8e80-45f3-a1b9-4f92cf241b5d'}\n"
     ]
    }
   ],
   "source": [
    "# check the xspress3_ch3 resource ids\n",
    "xspress3_ch3_ids = []\n",
    "for doc in xspress3_ch3_docs:\n",
    "    xspress3_ch3_ids.append(doc['resource'])\n",
    "xspress3_ch3_set = set(xspress3_ch3_ids)\n",
    "print(xspress3_ch3_set)"
   ]
  },
  {
   "cell_type": "markdown",
   "metadata": {},
   "source": [
    "## resource collection"
   ]
  },
  {
   "cell_type": "code",
   "execution_count": 23,
   "metadata": {
    "collapsed": false
   },
   "outputs": [],
   "source": [
    "resources = fs['resource']"
   ]
  },
  {
   "cell_type": "code",
   "execution_count": 24,
   "metadata": {
    "collapsed": false
   },
   "outputs": [
    {
     "name": "stdout",
     "output_type": "stream",
     "text": [
      "3 time: 0:00:00.045566  seconds\n"
     ]
    }
   ],
   "source": [
    "# get the merlin1 resources\n",
    "t1 = datetime.now();\n",
    "merlin1_res_docs = [doc for doc in resources.find({'uid' : {'$in' : list(merlin1_res_set)}})]\n",
    "t2 = datetime.now();\n",
    "print(len(merlin1_res_docs), \"time:\", (t2 - t1), \" seconds\")"
   ]
  },
  {
   "cell_type": "code",
   "execution_count": 25,
   "metadata": {
    "collapsed": false
   },
   "outputs": [
    {
     "name": "stdout",
     "output_type": "stream",
     "text": [
      "2018/04/09/4e0dc101-6794-433d-b0fa_000000.h5\n",
      "2018/04/09/99a530cf-2ac0-4042-bd7c_000000.h5\n",
      "2018/04/09/92c31beb-3350-4d72-9919_000000.h5\n"
     ]
    }
   ],
   "source": [
    "for doc in merlin1_res_docs:\n",
    "    print(doc['resource_path'])"
   ]
  },
  {
   "cell_type": "code",
   "execution_count": 26,
   "metadata": {
    "collapsed": false
   },
   "outputs": [
    {
     "name": "stdout",
     "output_type": "stream",
     "text": [
      "3 time: 0:00:00.045895  seconds\n"
     ]
    }
   ],
   "source": [
    "# get the xspress3_ch1 resources\n",
    "t1 = datetime.now();\n",
    "xspress3_ch1_res_docs = [doc for doc in resources.find({'uid' : {'$in' : list(xspress3_ch1_set)}})]\n",
    "t2 = datetime.now();\n",
    "print(len(xspress3_ch1_res_docs), \"time:\", (t2 - t1), \" seconds\")"
   ]
  },
  {
   "cell_type": "code",
   "execution_count": 27,
   "metadata": {
    "collapsed": false
   },
   "outputs": [
    {
     "name": "stdout",
     "output_type": "stream",
     "text": [
      "2018/04/09/9854a3da-3697-4912-8859_000000.h5\n",
      "2018/04/09/c2460c8b-71d9-4894-85b6_000000.h5\n",
      "2018/04/09/28c98792-8132-4131-aa35_000000.h5\n"
     ]
    }
   ],
   "source": [
    "for doc in xspress3_ch1_res_docs:\n",
    "    print(doc['resource_path'])"
   ]
  },
  {
   "cell_type": "code",
   "execution_count": 28,
   "metadata": {
    "collapsed": true
   },
   "outputs": [],
   "source": [
    "client.close()"
   ]
  },
  {
   "cell_type": "code",
   "execution_count": null,
   "metadata": {
    "collapsed": true
   },
   "outputs": [],
   "source": []
  }
 ],
 "metadata": {
  "anaconda-cloud": {},
  "kernelspec": {
   "display_name": "Python [default]",
   "language": "python",
   "name": "python3"
  },
  "language_info": {
   "codemirror_mode": {
    "name": "ipython",
    "version": 3
   },
   "file_extension": ".py",
   "mimetype": "text/x-python",
   "name": "python",
   "nbconvert_exporter": "python",
   "pygments_lexer": "ipython3",
   "version": "3.5.2"
  }
 },
 "nbformat": 4,
 "nbformat_minor": 1
}
