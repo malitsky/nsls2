{
 "cells": [
  {
   "cell_type": "markdown",
   "metadata": {},
   "source": [
    "# Test Scan \n",
    "## New MongoDB database. April 10, 2017"
   ]
  },
  {
   "cell_type": "code",
   "execution_count": 23,
   "metadata": {
    "collapsed": false
   },
   "outputs": [],
   "source": [
    "from datetime import datetime\n",
    "\n",
    "import numpy as np\n",
    "import matplotlib.pyplot as plt\n",
    "import h5py\n",
    "\n",
    "import pprint\n",
    "\n",
    "import pymongo\n",
    "from pymongo import MongoClient\n",
    "\n",
    "# make graphics inline\n",
    "%matplotlib inline"
   ]
  },
  {
   "cell_type": "code",
   "execution_count": 24,
   "metadata": {
    "collapsed": true
   },
   "outputs": [],
   "source": [
    "client = MongoClient('xf03id1-mdb01', 27017)"
   ]
  },
  {
   "cell_type": "code",
   "execution_count": 25,
   "metadata": {
    "collapsed": true
   },
   "outputs": [],
   "source": [
    "ds = client['datastore-new']\n",
    "fs = client['filestore-new']"
   ]
  },
  {
   "cell_type": "markdown",
   "metadata": {},
   "source": [
    "## run_start collection"
   ]
  },
  {
   "cell_type": "code",
   "execution_count": 26,
   "metadata": {
    "collapsed": false
   },
   "outputs": [
    {
     "name": "stdout",
     "output_type": "stream",
     "text": [
      "14957 14957 time: 0:00:01.802473  seconds\n"
     ]
    }
   ],
   "source": [
    "run_starts = ds['run_start']\n",
    "t1 = datetime.now();\n",
    "run_start_docs = [doc for doc in run_starts.find({})]\n",
    "t2 = datetime.now();\n",
    "print(run_starts.count(), len(run_start_docs), \"time:\", (t2 - t1), \" seconds\")"
   ]
  },
  {
   "cell_type": "code",
   "execution_count": 27,
   "metadata": {
    "collapsed": false
   },
   "outputs": [
    {
     "data": {
      "text/plain": [
       "47997"
      ]
     },
     "execution_count": 27,
     "metadata": {},
     "output_type": "execute_result"
    }
   ],
   "source": [
    "scan_ids = [doc['scan_id'] for doc in run_start_docs]\n",
    "max(scan_ids)"
   ]
  },
  {
   "cell_type": "code",
   "execution_count": 28,
   "metadata": {
    "collapsed": false
   },
   "outputs": [
    {
     "name": "stdout",
     "output_type": "stream",
     "text": [
      "scan id: 47997 time: 2018-04-10 18:37:00.132566 () uid: f638a84f-3c3b-491d-a613-3dd743e8271d\n"
     ]
    }
   ],
   "source": [
    "run_start_doc = run_start_docs[-1]\n",
    "print(\"scan id:\", run_start_doc['scan_id'], \"time:\",\n",
    "      datetime.fromtimestamp(run_start_doc['time']).strftime(\"%Y-%m-%d %H:%M:%S.%f%z (%Z)\"),\n",
    "     'uid:', run_start_doc['uid'])"
   ]
  },
  {
   "cell_type": "markdown",
   "metadata": {},
   "source": [
    "## run_stop collection"
   ]
  },
  {
   "cell_type": "code",
   "execution_count": 29,
   "metadata": {
    "collapsed": false
   },
   "outputs": [
    {
     "name": "stdout",
     "output_type": "stream",
     "text": [
      "1 time: 0:00:00.003372  seconds\n"
     ]
    }
   ],
   "source": [
    "run_stops = ds['run_stop']\n",
    "t1 = datetime.now();\n",
    "run_stop_docs = [doc for doc in run_stops.find({'run_start' : run_start_doc['uid']})]\n",
    "t2 = datetime.now();\n",
    "print(len(run_stop_docs), \"time:\", (t2 - t1), \" seconds\")"
   ]
  },
  {
   "cell_type": "code",
   "execution_count": 30,
   "metadata": {
    "collapsed": false
   },
   "outputs": [
    {
     "name": "stdout",
     "output_type": "stream",
     "text": [
      "{'_id': ObjectId('5acd48bb45e1975c04b21089'),\n",
      " 'exit_status': 'success',\n",
      " 'num_events': {'baseline': 2, 'primary': 40000},\n",
      " 'run_start': 'f638a84f-3c3b-491d-a613-3dd743e8271d',\n",
      " 'time': 1523402939.0384538,\n",
      " 'uid': '4976fe05-8e88-4e2a-a952-8c88b762c498'}\n"
     ]
    }
   ],
   "source": [
    "run_stop_doc = run_stop_docs[-1]\n",
    "pprint.pprint(run_stop_doc)"
   ]
  },
  {
   "cell_type": "code",
   "execution_count": 31,
   "metadata": {
    "collapsed": false
   },
   "outputs": [
    {
     "data": {
      "text/plain": [
       "'2018-04-10 19:28:59.038454 ()'"
      ]
     },
     "execution_count": 31,
     "metadata": {},
     "output_type": "execute_result"
    }
   ],
   "source": [
    "datetime.fromtimestamp(run_stop_doc['time']).strftime(\"%Y-%m-%d %H:%M:%S.%f%z (%Z)\")"
   ]
  },
  {
   "cell_type": "markdown",
   "metadata": {},
   "source": [
    "## event_descriptor collection"
   ]
  },
  {
   "cell_type": "code",
   "execution_count": 32,
   "metadata": {
    "collapsed": false
   },
   "outputs": [
    {
     "name": "stdout",
     "output_type": "stream",
     "text": [
      "2 time: 0:00:00.008561  seconds\n"
     ]
    }
   ],
   "source": [
    "event_descriptors = ds['event_descriptor']\n",
    "t1 = datetime.now();\n",
    "event_descriptor_docs = [doc for doc in event_descriptors.find({'run_start' : run_start_doc['uid']})]\n",
    "t2 = datetime.now();\n",
    "print(len(event_descriptor_docs), \"time:\", (t2 - t1), \" seconds\")"
   ]
  },
  {
   "cell_type": "code",
   "execution_count": 33,
   "metadata": {
    "collapsed": false
   },
   "outputs": [
    {
     "name": "stdout",
     "output_type": "stream",
     "text": [
      "primary\n",
      "baseline\n"
     ]
    }
   ],
   "source": [
    "for event_descriptor_doc in event_descriptor_docs:\n",
    "    print(event_descriptor_doc['name'])"
   ]
  },
  {
   "cell_type": "code",
   "execution_count": 34,
   "metadata": {
    "collapsed": true
   },
   "outputs": [],
   "source": [
    "event_descriptor_doc = event_descriptor_docs[0]"
   ]
  },
  {
   "cell_type": "markdown",
   "metadata": {},
   "source": [
    "## event collection"
   ]
  },
  {
   "cell_type": "code",
   "execution_count": 35,
   "metadata": {
    "collapsed": false
   },
   "outputs": [
    {
     "name": "stdout",
     "output_type": "stream",
     "text": [
      "40000 time: 0:00:04.647445  seconds\n"
     ]
    }
   ],
   "source": [
    "events = ds['event']\n",
    "t1 = datetime.now();\n",
    "event_docs = [doc for doc in events.find({'descriptor' : event_descriptor_doc['uid']})]\n",
    "t2 = datetime.now();\n",
    "print(len(event_docs), \"time:\", (t2 - t1), \" seconds\")"
   ]
  },
  {
   "cell_type": "code",
   "execution_count": 36,
   "metadata": {
    "collapsed": true
   },
   "outputs": [],
   "source": [
    "merlin1_ids = []\n",
    "xspress3_ch1_ids = []\n",
    "xspress3_ch2_ids = []\n",
    "xspress3_ch3_ids = []\n",
    "for doc in event_docs:\n",
    "    merlin1_ids.append(doc['data']['merlin1'])\n",
    "    xspress3_ch1_ids.append(doc['data']['xspress3_ch1'])\n",
    "    xspress3_ch2_ids.append(doc['data']['xspress3_ch2'])\n",
    "    xspress3_ch3_ids.append(doc['data']['xspress3_ch3'])"
   ]
  },
  {
   "cell_type": "code",
   "execution_count": 37,
   "metadata": {
    "collapsed": false
   },
   "outputs": [
    {
     "name": "stdout",
     "output_type": "stream",
     "text": [
      "fcc1e7f2-1827-40d9-a3d2-31a88e6318c4 16156230-83f8-4efc-9e29-b1aa62369eb6 fd9eecaf-f4f3-460e-84cb-44187b810568 49f5adcd-540f-474b-b3d6-c48f2921eb93\n"
     ]
    }
   ],
   "source": [
    "print(merlin1_ids[0], xspress3_ch1_ids[0], xspress3_ch2_ids[0], xspress3_ch3_ids[0])"
   ]
  },
  {
   "cell_type": "markdown",
   "metadata": {},
   "source": [
    "## datum collection"
   ]
  },
  {
   "cell_type": "code",
   "execution_count": 38,
   "metadata": {
    "collapsed": false
   },
   "outputs": [],
   "source": [
    "datum = fs['datum']"
   ]
  },
  {
   "cell_type": "code",
   "execution_count": 39,
   "metadata": {
    "collapsed": false
   },
   "outputs": [
    {
     "name": "stdout",
     "output_type": "stream",
     "text": [
      "40000 time: 0:00:02.819134  seconds\n"
     ]
    }
   ],
   "source": [
    "# check all merlin1_ids\n",
    "t1 = datetime.now();\n",
    "merlin1_docs = [doc for doc in datum.find({'datum_id' : {'$in' : merlin1_ids}})]\n",
    "t2 = datetime.now();\n",
    "print(len(merlin1_docs), \"time:\", (t2 - t1), \" seconds\")"
   ]
  },
  {
   "cell_type": "code",
   "execution_count": 40,
   "metadata": {
    "collapsed": false
   },
   "outputs": [
    {
     "name": "stdout",
     "output_type": "stream",
     "text": [
      "{'addd794c-3ed9-45a2-a8c6-dd492700da6e', '46e2e921-80d7-44c1-8204-812cc9ea4489', 'f514b0d6-d9dd-4590-b9a6-4b85f15c441d'}\n"
     ]
    }
   ],
   "source": [
    "# check the merlin1 resource ids\n",
    "merlin1_res_ids = []\n",
    "for doc in merlin1_docs:\n",
    "    merlin1_res_ids.append(doc['resource'])\n",
    "merlin1_res_set = set(merlin1_res_ids)\n",
    "print(merlin1_res_set)"
   ]
  },
  {
   "cell_type": "code",
   "execution_count": 41,
   "metadata": {
    "collapsed": false
   },
   "outputs": [
    {
     "name": "stdout",
     "output_type": "stream",
     "text": [
      "40000 time: 0:00:02.850975  seconds\n"
     ]
    }
   ],
   "source": [
    "# check all xspress3_ch1_ids\n",
    "t1 = datetime.now();\n",
    "xspress3_ch1_docs = [doc for doc in datum.find({'datum_id' : {'$in' : xspress3_ch1_ids}})]\n",
    "t2 = datetime.now();\n",
    "print(len(xspress3_ch1_docs), \"time:\", (t2 - t1), \" seconds\")"
   ]
  },
  {
   "cell_type": "code",
   "execution_count": 42,
   "metadata": {
    "collapsed": false
   },
   "outputs": [
    {
     "name": "stdout",
     "output_type": "stream",
     "text": [
      "{'c9d9225b-7479-466f-8f3a-b0adcdc9c845', '25b5a599-2b09-41c8-a97c-5957a7cf9ed6', '16a3bf86-6671-483d-8dd5-aef8f59e2894'}\n"
     ]
    }
   ],
   "source": [
    "# check the xspress3_ch1 resource ids\n",
    "xspress3_ch1_ids = []\n",
    "for doc in xspress3_ch1_docs:\n",
    "    xspress3_ch1_ids.append(doc['resource'])\n",
    "xspress3_ch1_set = set(xspress3_ch1_ids)\n",
    "print(xspress3_ch1_set)"
   ]
  },
  {
   "cell_type": "code",
   "execution_count": 43,
   "metadata": {
    "collapsed": false
   },
   "outputs": [
    {
     "name": "stdout",
     "output_type": "stream",
     "text": [
      "40000 time: 0:00:02.412624  seconds\n"
     ]
    }
   ],
   "source": [
    "# check all xspress3_ch2_ids\n",
    "t1 = datetime.now();\n",
    "xspress3_ch2_docs = [doc for doc in datum.find({'datum_id' : {'$in' : xspress3_ch2_ids}})]\n",
    "t2 = datetime.now();\n",
    "print(len(xspress3_ch2_docs), \"time:\", (t2 - t1), \" seconds\")"
   ]
  },
  {
   "cell_type": "code",
   "execution_count": 44,
   "metadata": {
    "collapsed": false
   },
   "outputs": [
    {
     "name": "stdout",
     "output_type": "stream",
     "text": [
      "{'c9d9225b-7479-466f-8f3a-b0adcdc9c845', '25b5a599-2b09-41c8-a97c-5957a7cf9ed6', '16a3bf86-6671-483d-8dd5-aef8f59e2894'}\n"
     ]
    }
   ],
   "source": [
    "# check the xspress3_ch2 resource ids\n",
    "xspress3_ch2_ids = []\n",
    "for doc in xspress3_ch2_docs:\n",
    "    xspress3_ch2_ids.append(doc['resource'])\n",
    "xspress3_ch2_set = set(xspress3_ch2_ids)\n",
    "print(xspress3_ch2_set)"
   ]
  },
  {
   "cell_type": "code",
   "execution_count": 45,
   "metadata": {
    "collapsed": false
   },
   "outputs": [
    {
     "name": "stdout",
     "output_type": "stream",
     "text": [
      "40000 time: 0:00:02.749975  seconds\n"
     ]
    }
   ],
   "source": [
    "# check all xspress3_ch3_ids\n",
    "t1 = datetime.now();\n",
    "xspress3_ch3_docs = [doc for doc in datum.find({'datum_id' : {'$in' : xspress3_ch3_ids}})]\n",
    "t2 = datetime.now();\n",
    "print(len(xspress3_ch3_docs), \"time:\", (t2 - t1), \" seconds\")"
   ]
  },
  {
   "cell_type": "code",
   "execution_count": 46,
   "metadata": {
    "collapsed": false
   },
   "outputs": [
    {
     "name": "stdout",
     "output_type": "stream",
     "text": [
      "{'c9d9225b-7479-466f-8f3a-b0adcdc9c845', '25b5a599-2b09-41c8-a97c-5957a7cf9ed6', '16a3bf86-6671-483d-8dd5-aef8f59e2894'}\n"
     ]
    }
   ],
   "source": [
    "# check the xspress3_ch3 resource ids\n",
    "xspress3_ch3_ids = []\n",
    "for doc in xspress3_ch3_docs:\n",
    "    xspress3_ch3_ids.append(doc['resource'])\n",
    "xspress3_ch3_set = set(xspress3_ch3_ids)\n",
    "print(xspress3_ch3_set)"
   ]
  },
  {
   "cell_type": "markdown",
   "metadata": {},
   "source": [
    "## resource collection"
   ]
  },
  {
   "cell_type": "code",
   "execution_count": 47,
   "metadata": {
    "collapsed": false
   },
   "outputs": [],
   "source": [
    "resources = fs['resource']"
   ]
  },
  {
   "cell_type": "code",
   "execution_count": 48,
   "metadata": {
    "collapsed": false
   },
   "outputs": [
    {
     "name": "stdout",
     "output_type": "stream",
     "text": [
      "3 time: 0:00:00.052144  seconds\n"
     ]
    }
   ],
   "source": [
    "# get the merlin1 resources\n",
    "t1 = datetime.now();\n",
    "merlin1_res_docs = [doc for doc in resources.find({'uid' : {'$in' : list(merlin1_res_set)}})]\n",
    "t2 = datetime.now();\n",
    "print(len(merlin1_res_docs), \"time:\", (t2 - t1), \" seconds\")"
   ]
  },
  {
   "cell_type": "code",
   "execution_count": 49,
   "metadata": {
    "collapsed": false
   },
   "outputs": [
    {
     "name": "stdout",
     "output_type": "stream",
     "text": [
      "2018/04/10/603a8495-b4e6-43fa-98f0_000000.h5\n",
      "2018/04/10/f993b083-3e27-44d9-8241_000000.h5\n",
      "2018/04/10/4a34d8a4-c467-4439-900c_000000.h5\n"
     ]
    }
   ],
   "source": [
    "for doc in merlin1_res_docs:\n",
    "    print(doc['resource_path'])"
   ]
  },
  {
   "cell_type": "code",
   "execution_count": 50,
   "metadata": {
    "collapsed": false
   },
   "outputs": [
    {
     "name": "stdout",
     "output_type": "stream",
     "text": [
      "3 time: 0:00:00.034254  seconds\n"
     ]
    }
   ],
   "source": [
    "# get the xspress3_ch1 resources\n",
    "t1 = datetime.now();\n",
    "xspress3_ch1_res_docs = [doc for doc in resources.find({'uid' : {'$in' : list(xspress3_ch1_set)}})]\n",
    "t2 = datetime.now();\n",
    "print(len(xspress3_ch1_res_docs), \"time:\", (t2 - t1), \" seconds\")"
   ]
  },
  {
   "cell_type": "code",
   "execution_count": 51,
   "metadata": {
    "collapsed": false
   },
   "outputs": [
    {
     "name": "stdout",
     "output_type": "stream",
     "text": [
      "2018/04/10/1d9b4090-ab09-4d9a-b2e6_000000.h5\n",
      "2018/04/10/4b7a7ec7-041b-4666-8be1_000000.h5\n",
      "2018/04/10/27be42b9-6d31-48d9-8787_000000.h5\n"
     ]
    }
   ],
   "source": [
    "for doc in xspress3_ch1_res_docs:\n",
    "    print(doc['resource_path'])"
   ]
  },
  {
   "cell_type": "code",
   "execution_count": 28,
   "metadata": {
    "collapsed": true
   },
   "outputs": [],
   "source": [
    "client.close()"
   ]
  },
  {
   "cell_type": "code",
   "execution_count": null,
   "metadata": {
    "collapsed": true
   },
   "outputs": [],
   "source": []
  }
 ],
 "metadata": {
  "anaconda-cloud": {},
  "kernelspec": {
   "display_name": "Python [default]",
   "language": "python",
   "name": "python3"
  },
  "language_info": {
   "codemirror_mode": {
    "name": "ipython",
    "version": 3
   },
   "file_extension": ".py",
   "mimetype": "text/x-python",
   "name": "python",
   "nbconvert_exporter": "python",
   "pygments_lexer": "ipython3",
   "version": "3.5.2"
  }
 },
 "nbformat": 4,
 "nbformat_minor": 1
}
