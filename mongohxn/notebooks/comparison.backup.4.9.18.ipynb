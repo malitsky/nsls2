{
 "cells": [
  {
   "cell_type": "markdown",
   "metadata": {},
   "source": [
    "# Backup Comparative Analysis\n",
    "\n",
    "## Old vs New MongoDB databases. April 9, 2018"
   ]
  },
  {
   "cell_type": "code",
   "execution_count": 1,
   "metadata": {
    "collapsed": false
   },
   "outputs": [],
   "source": [
    "from datetime import datetime\n",
    "\n",
    "import numpy as np\n",
    "import matplotlib.pyplot as plt\n",
    "import h5py\n",
    "\n",
    "import pprint\n",
    "\n",
    "import pymongo\n",
    "from pymongo import MongoClient\n",
    "\n",
    "# make graphics inline\n",
    "%matplotlib inline"
   ]
  },
  {
   "cell_type": "code",
   "execution_count": 2,
   "metadata": {
    "collapsed": true
   },
   "outputs": [],
   "source": [
    "client0 = MongoClient('xf03id-ca1', 27017)\n",
    "ds0 = client0['datastore-new']\n",
    "fs0 = client0['filestore-new']"
   ]
  },
  {
   "cell_type": "code",
   "execution_count": 3,
   "metadata": {
    "collapsed": true
   },
   "outputs": [],
   "source": [
    "client1 = MongoClient('xf03id1-mdb01', 27017)\n",
    "ds1 = client1['datastore-new']\n",
    "fs1 = client1['filestore-new']"
   ]
  },
  {
   "cell_type": "markdown",
   "metadata": {},
   "source": [
    "## run_start collection"
   ]
  },
  {
   "cell_type": "code",
   "execution_count": 8,
   "metadata": {
    "collapsed": false
   },
   "outputs": [
    {
     "name": "stdout",
     "output_type": "stream",
     "text": [
      "14955 14955 time: 0:00:01.312550  seconds\n"
     ]
    }
   ],
   "source": [
    "run_starts_0 = ds0['run_start']\n",
    "t1 = datetime.now();\n",
    "run_start_docs_0 = [doc for doc in run_starts_0.find({})]\n",
    "t2 = datetime.now();\n",
    "print(run_starts_0.count(), len(run_start_docs_0), \"time:\", (t2 - t1), \" seconds\")"
   ]
  },
  {
   "cell_type": "code",
   "execution_count": 9,
   "metadata": {
    "collapsed": false
   },
   "outputs": [
    {
     "name": "stdout",
     "output_type": "stream",
     "text": [
      "14954 14954 time: 0:00:01.417949  seconds\n"
     ]
    }
   ],
   "source": [
    "run_starts_1 = ds1['run_start']\n",
    "t1 = datetime.now();\n",
    "run_start_docs_1 = [doc for doc in run_starts_1.find({})]\n",
    "t2 = datetime.now();\n",
    "print(run_starts_1.count(), len(run_start_docs_1), \"time:\", (t2 - t1), \" seconds\")"
   ]
  },
  {
   "cell_type": "code",
   "execution_count": 10,
   "metadata": {
    "collapsed": false
   },
   "outputs": [
    {
     "name": "stdout",
     "output_type": "stream",
     "text": [
      "False time: 0:00:00.281811  seconds\n"
     ]
    }
   ],
   "source": [
    "t1 = datetime.now();\n",
    "pairs = zip(run_start_docs_0[:-1], run_start_docs_1)\n",
    "result = any(x != y for x, y in pairs)\n",
    "t2 = datetime.now();\n",
    "print(result, \"time:\", (t2 - t1), \" seconds\")"
   ]
  },
  {
   "cell_type": "markdown",
   "metadata": {},
   "source": [
    "## run_stop collection"
   ]
  },
  {
   "cell_type": "code",
   "execution_count": 13,
   "metadata": {
    "collapsed": false
   },
   "outputs": [
    {
     "name": "stdout",
     "output_type": "stream",
     "text": [
      "14861 14861 time: 0:00:00.163260  seconds\n"
     ]
    }
   ],
   "source": [
    "run_stops_0 = ds0['run_stop']\n",
    "t1 = datetime.now();\n",
    "run_stop_docs_0 = [doc for doc in run_stops_0.find({})]\n",
    "t2 = datetime.now();\n",
    "print(run_stops_0.count(), len(run_stop_docs_0), \"time:\", (t2 - t1), \" seconds\")"
   ]
  },
  {
   "cell_type": "code",
   "execution_count": 14,
   "metadata": {
    "collapsed": false
   },
   "outputs": [
    {
     "name": "stdout",
     "output_type": "stream",
     "text": [
      "14860 14860 time: 0:00:00.194512  seconds\n"
     ]
    }
   ],
   "source": [
    "run_stops_1 = ds1['run_stop']\n",
    "t1 = datetime.now();\n",
    "run_stop_docs_1 = [doc for doc in run_stops_1.find({})]\n",
    "t2 = datetime.now();\n",
    "print(run_stops_1.count(), len(run_stop_docs_1), \"time:\", (t2 - t1), \" seconds\")"
   ]
  },
  {
   "cell_type": "code",
   "execution_count": 15,
   "metadata": {
    "collapsed": false
   },
   "outputs": [
    {
     "name": "stdout",
     "output_type": "stream",
     "text": [
      "False time: 0:00:00.059576  seconds\n"
     ]
    }
   ],
   "source": [
    "t1 = datetime.now();\n",
    "pairs = zip(run_stop_docs_0[:-1], run_stop_docs_1)\n",
    "result = any(x != y for x, y in pairs)\n",
    "t2 = datetime.now();\n",
    "print(result, \"time:\", (t2 - t1), \" seconds\")"
   ]
  },
  {
   "cell_type": "markdown",
   "metadata": {},
   "source": [
    "## event_descriptor collection"
   ]
  },
  {
   "cell_type": "code",
   "execution_count": 16,
   "metadata": {
    "collapsed": false
   },
   "outputs": [
    {
     "name": "stdout",
     "output_type": "stream",
     "text": [
      "29592 29592 time: 0:00:53.006880  seconds\n"
     ]
    }
   ],
   "source": [
    "event_descriptors_0 = ds0['event_descriptor']\n",
    "t1 = datetime.now();\n",
    "event_descriptor_docs_0 = [doc for doc in event_descriptors_0.find({})]\n",
    "t2 = datetime.now();\n",
    "print(event_descriptors_0.count(), len(event_descriptor_docs_0), \"time:\", (t2 - t1), \" seconds\")"
   ]
  },
  {
   "cell_type": "code",
   "execution_count": 17,
   "metadata": {
    "collapsed": false
   },
   "outputs": [
    {
     "name": "stdout",
     "output_type": "stream",
     "text": [
      "29590 29590 time: 0:00:43.625261  seconds\n"
     ]
    }
   ],
   "source": [
    "event_descriptors_1 = ds1['event_descriptor']\n",
    "t1 = datetime.now();\n",
    "event_descriptor_docs_1 = [doc for doc in event_descriptors_1.find({})]\n",
    "t2 = datetime.now();\n",
    "print(event_descriptors_1.count(), len(event_descriptor_docs_1), \"time:\", (t2 - t1), \" seconds\")"
   ]
  },
  {
   "cell_type": "code",
   "execution_count": 18,
   "metadata": {
    "collapsed": false
   },
   "outputs": [
    {
     "name": "stdout",
     "output_type": "stream",
     "text": [
      "False time: 0:00:05.845194  seconds\n"
     ]
    }
   ],
   "source": [
    "t1 = datetime.now();\n",
    "pairs = zip(event_descriptor_docs_0[:-2], event_descriptor_docs_1)\n",
    "result = any(x != y for x, y in pairs)\n",
    "t2 = datetime.now();\n",
    "print(result, \"time:\", (t2 - t1), \" seconds\")"
   ]
  },
  {
   "cell_type": "markdown",
   "metadata": {},
   "source": [
    "## event collection"
   ]
  },
  {
   "cell_type": "code",
   "execution_count": 21,
   "metadata": {
    "collapsed": false
   },
   "outputs": [
    {
     "name": "stdout",
     "output_type": "stream",
     "text": [
      "44382040 100000 time: 0:00:09.211545  seconds\n"
     ]
    }
   ],
   "source": [
    "events_0 = ds0['event']\n",
    "t1 = datetime.now()\n",
    "event_cursor_0 = events_0.find({})[0:100000]\n",
    "event_docs_0 = [doc for doc in event_cursor_0]\n",
    "t2 = datetime.now()\n",
    "print(events_0.count(), len(event_docs_0), \"time:\", (t2 - t1), \" seconds\")"
   ]
  },
  {
   "cell_type": "code",
   "execution_count": 22,
   "metadata": {
    "collapsed": false
   },
   "outputs": [
    {
     "name": "stdout",
     "output_type": "stream",
     "text": [
      "44342038 100000 time: 0:00:06.216206  seconds\n"
     ]
    }
   ],
   "source": [
    "events_1 = ds1['event']\n",
    "t1 = datetime.now()\n",
    "event_cursor_1 = events_0.find({})[0:100000]\n",
    "event_docs_1 = [doc for doc in event_cursor_1]\n",
    "t2 = datetime.now()\n",
    "print(events_1.count(), len(event_docs_1), \"time:\", (t2 - t1), \" seconds\")"
   ]
  },
  {
   "cell_type": "code",
   "execution_count": 23,
   "metadata": {
    "collapsed": false
   },
   "outputs": [
    {
     "name": "stdout",
     "output_type": "stream",
     "text": [
      "False time: 0:00:01.897940  seconds\n"
     ]
    }
   ],
   "source": [
    "t1 = datetime.now();\n",
    "pairs = zip(event_docs_0, event_docs_1)\n",
    "result = any(x != y for x, y in pairs)\n",
    "t2 = datetime.now();\n",
    "print(result, \"time:\", (t2 - t1), \" seconds\")"
   ]
  },
  {
   "cell_type": "markdown",
   "metadata": {},
   "source": [
    "## resource collection"
   ]
  },
  {
   "cell_type": "code",
   "execution_count": 25,
   "metadata": {
    "collapsed": false
   },
   "outputs": [
    {
     "name": "stdout",
     "output_type": "stream",
     "text": [
      "31152 31152 time: 0:00:00.333114  seconds\n"
     ]
    }
   ],
   "source": [
    "resources_0 = fs0['resource']\n",
    "t1 = datetime.now();\n",
    "resource_docs_0 = [doc for doc in resources_0.find({})]\n",
    "t2 = datetime.now();\n",
    "print(resources_0.count(), len(resource_docs_0), \"time:\", (t2 - t1), \" seconds\")"
   ]
  },
  {
   "cell_type": "code",
   "execution_count": 26,
   "metadata": {
    "collapsed": false
   },
   "outputs": [
    {
     "name": "stdout",
     "output_type": "stream",
     "text": [
      "31146 31146 time: 0:00:00.421555  seconds\n"
     ]
    }
   ],
   "source": [
    "resources_1 = fs1['resource']\n",
    "t1 = datetime.now();\n",
    "resource_docs_1 = [doc for doc in resources_1.find({})]\n",
    "t2 = datetime.now();\n",
    "print(resources_1.count(), len(resource_docs_1), \"time:\", (t2 - t1), \" seconds\")"
   ]
  },
  {
   "cell_type": "code",
   "execution_count": 27,
   "metadata": {
    "collapsed": false
   },
   "outputs": [
    {
     "name": "stdout",
     "output_type": "stream",
     "text": [
      "False time: 0:00:00.105590  seconds\n"
     ]
    }
   ],
   "source": [
    "t1 = datetime.now();\n",
    "pairs = zip(resource_docs_0[:-6], resource_docs_1)\n",
    "result = any(x != y for x, y in pairs)\n",
    "t2 = datetime.now();\n",
    "print(result, \"time:\", (t2 - t1), \" seconds\")"
   ]
  },
  {
   "cell_type": "markdown",
   "metadata": {},
   "source": [
    "## datum collection"
   ]
  },
  {
   "cell_type": "code",
   "execution_count": 32,
   "metadata": {
    "collapsed": false
   },
   "outputs": [
    {
     "name": "stdout",
     "output_type": "stream",
     "text": [
      "180166639 1000000 time: 0:00:07.887115  seconds\n"
     ]
    }
   ],
   "source": [
    "datum_0 = fs0['datum']\n",
    "t1 = datetime.now();\n",
    "datum_cursor_0 = datum_0.find({})[0:1000000]\n",
    "datum_docs_0 = [doc for doc in datum_cursor_0]\n",
    "t2 = datetime.now();\n",
    "print(datum_0.count(), len(datum_docs_0), \"time:\", (t2 - t1), \" seconds\")"
   ]
  },
  {
   "cell_type": "code",
   "execution_count": 33,
   "metadata": {
    "collapsed": false
   },
   "outputs": [
    {
     "name": "stdout",
     "output_type": "stream",
     "text": [
      "180006639 1000000 time: 0:00:11.036716  seconds\n"
     ]
    }
   ],
   "source": [
    "datum_1 = fs1['datum']\n",
    "t1 = datetime.now();\n",
    "datum_cursor_1 = datum_1.find({})[0:1000000]\n",
    "datum_docs_1 = [doc for doc in datum_cursor_1]\n",
    "t2 = datetime.now();\n",
    "print(datum_1.count(), len(datum_docs_1), \"time:\", (t2 - t1), \" seconds\")"
   ]
  },
  {
   "cell_type": "code",
   "execution_count": 34,
   "metadata": {
    "collapsed": false
   },
   "outputs": [
    {
     "name": "stdout",
     "output_type": "stream",
     "text": [
      "False time: 0:00:01.350542  seconds\n"
     ]
    }
   ],
   "source": [
    "t1 = datetime.now();\n",
    "pairs = zip(datum_docs_0, datum_docs_1)\n",
    "result = any(x != y for x, y in pairs)\n",
    "t2 = datetime.now();\n",
    "print(result, \"time:\", (t2 - t1), \" seconds\")"
   ]
  },
  {
   "cell_type": "code",
   "execution_count": 35,
   "metadata": {
    "collapsed": true
   },
   "outputs": [],
   "source": [
    "client1.close()"
   ]
  },
  {
   "cell_type": "code",
   "execution_count": 36,
   "metadata": {
    "collapsed": true
   },
   "outputs": [],
   "source": [
    "client0.close()"
   ]
  },
  {
   "cell_type": "code",
   "execution_count": null,
   "metadata": {
    "collapsed": true
   },
   "outputs": [],
   "source": []
  }
 ],
 "metadata": {
  "anaconda-cloud": {},
  "kernelspec": {
   "display_name": "Python [default]",
   "language": "python",
   "name": "python3"
  },
  "language_info": {
   "codemirror_mode": {
    "name": "ipython",
    "version": 3
   },
   "file_extension": ".py",
   "mimetype": "text/x-python",
   "name": "python",
   "nbconvert_exporter": "python",
   "pygments_lexer": "ipython3",
   "version": "3.5.2"
  }
 },
 "nbformat": 4,
 "nbformat_minor": 1
}
