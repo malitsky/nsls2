{
 "cells": [
  {
   "cell_type": "markdown",
   "metadata": {},
   "source": [
    "The script generates a list of uuids that are in each of the databases"
   ]
  },
  {
   "cell_type": "code",
   "execution_count": 1,
   "metadata": {
    "collapsed": false
   },
   "outputs": [],
   "source": [
    "from datetime import datetime\n",
    "\n",
    "import numpy as np\n",
    "import matplotlib.pyplot as plt\n",
    "import h5py\n",
    "\n",
    "import pprint\n",
    "\n",
    "import pymongo\n",
    "from pymongo import MongoClient\n",
    "\n",
    "# make graphics inline\n",
    "%matplotlib inline"
   ]
  },
  {
   "cell_type": "code",
   "execution_count": 2,
   "metadata": {
    "collapsed": false
   },
   "outputs": [],
   "source": [
    "client = MongoClient('xf03id-ca1', 27017)"
   ]
  },
  {
   "cell_type": "markdown",
   "metadata": {},
   "source": [
    "## Datastore DB"
   ]
  },
  {
   "cell_type": "code",
   "execution_count": 3,
   "metadata": {
    "collapsed": false
   },
   "outputs": [
    {
     "data": {
      "text/plain": [
       "['run_start', 'run_stop', 'event', 'event_descriptor']"
      ]
     },
     "execution_count": 3,
     "metadata": {},
     "output_type": "execute_result"
    }
   ],
   "source": [
    "db = client['datastore']\n",
    "db.collection_names()"
   ]
  },
  {
   "cell_type": "code",
   "execution_count": 4,
   "metadata": {
    "collapsed": false
   },
   "outputs": [
    {
     "name": "stdout",
     "output_type": "stream",
     "text": [
      "32058 32058 time: 0:00:02.532134  seconds\n"
     ]
    }
   ],
   "source": [
    "# collection: run_start\n",
    "run_starts = db['run_start']\n",
    "t1 = datetime.now();\n",
    "run_start_uids = [uid for uid in run_starts.find({}, {\"uid\": 1, \"_id\":0})]\n",
    "t2 = datetime.now();\n",
    "print(run_starts.count(), len(run_start_uids), \"time:\", (t2 - t1), \" seconds\")"
   ]
  },
  {
   "cell_type": "code",
   "execution_count": 5,
   "metadata": {
    "collapsed": false
   },
   "outputs": [
    {
     "name": "stdout",
     "output_type": "stream",
     "text": [
      "32657 32657 time: 0:00:00.653683  seconds\n"
     ]
    }
   ],
   "source": [
    "# collection: run_stop {... run_start: uid }\n",
    "run_stops = db['run_stop']\n",
    "t1 = datetime.now();\n",
    "run_stop_uids = [uid for uid in run_stops.find({}, {\"uid\": 1, \"_id\":0})]\n",
    "t2 = datetime.now();\n",
    "print(run_stops.count(), len(run_stop_uids), \"time:\", (t2 - t1), \" seconds\")"
   ]
  },
  {
   "cell_type": "code",
   "execution_count": 6,
   "metadata": {
    "collapsed": false
   },
   "outputs": [
    {
     "name": "stdout",
     "output_type": "stream",
     "text": [
      "56797 56797 time: 0:00:24.040460  seconds\n"
     ]
    }
   ],
   "source": [
    "# collection: event_descriptor {... run_start: uid }\n",
    "event_descriptors = db['event_descriptor']\n",
    "t1 = datetime.now();\n",
    "event_descriptor_uids = [uid for uid in event_descriptors.find({}, {\"uid\": 1, \"_id\":0})]\n",
    "t2 = datetime.now();\n",
    "print(event_descriptors.count(), len(event_descriptor_uids), \"time:\", (t2 - t1), \" seconds\")"
   ]
  },
  {
   "cell_type": "code",
   "execution_count": 7,
   "metadata": {
    "collapsed": false
   },
   "outputs": [
    {
     "name": "stdout",
     "output_type": "stream",
     "text": [
      "93790259 1000000 time: 0:00:13.174463  seconds\n"
     ]
    }
   ],
   "source": [
    "# collection: event {... descriptor: uid }\n",
    "events = db['event']\n",
    "t1 = datetime.now();\n",
    "event_uids = [uid for uid in events.find({}, {\"uid\": 1, \"_id\":0})[0:1000000]]\n",
    "t2 = datetime.now();\n",
    "print(events.count(), len(event_uids), \"time:\", (t2 - t1), \" seconds\")"
   ]
  },
  {
   "cell_type": "markdown",
   "metadata": {},
   "source": [
    "## Filestore DB"
   ]
  },
  {
   "cell_type": "code",
   "execution_count": 8,
   "metadata": {
    "collapsed": false
   },
   "outputs": [
    {
     "data": {
      "text/plain": [
       "['sentinel', 'datum', 'resource', 'resource_update']"
      ]
     },
     "execution_count": 8,
     "metadata": {},
     "output_type": "execute_result"
    }
   ],
   "source": [
    "db = client['filestore']\n",
    "db.collection_names()"
   ]
  },
  {
   "cell_type": "code",
   "execution_count": 9,
   "metadata": {
    "collapsed": false
   },
   "outputs": [
    {
     "name": "stdout",
     "output_type": "stream",
     "text": [
      "{'_id': ObjectId('57484d47f361940f33ef9af9'),\n",
      " 'collection': 'resource',\n",
      " 'version': 1}\n"
     ]
    }
   ],
   "source": [
    "# collection: sentinel\n",
    "sentinels = db['sentinel']\n",
    "pprint.pprint(sentinels.find_one())"
   ]
  },
  {
   "cell_type": "code",
   "execution_count": 10,
   "metadata": {
    "collapsed": false
   },
   "outputs": [
    {
     "name": "stdout",
     "output_type": "stream",
     "text": [
      "{'_id': ObjectId('55805fe445e1974028c3a10d'),\n",
      " 'resource_kwargs': {},\n",
      " 'resource_path': '/xspress3_data/2015/6/16/635f6f62-f35a-4636-9b4f-6888448b640e_000000.h5',\n",
      " 'spec': 'XSP3'}\n"
     ]
    }
   ],
   "source": [
    "# collection: resource\n",
    "resources = db['resource']\n",
    "pprint.pprint(resources.find_one())"
   ]
  },
  {
   "cell_type": "code",
   "execution_count": 11,
   "metadata": {
    "collapsed": false
   },
   "outputs": [
    {
     "name": "stdout",
     "output_type": "stream",
     "text": [
      "None\n"
     ]
    }
   ],
   "source": [
    "# collection: resource_update\n",
    "resource_updates = db['resource_update']\n",
    "pprint.pprint(resource_updates.find_one())"
   ]
  },
  {
   "cell_type": "code",
   "execution_count": 12,
   "metadata": {
    "collapsed": false
   },
   "outputs": [
    {
     "name": "stdout",
     "output_type": "stream",
     "text": [
      "{'_id': ObjectId('55805fe745e1974028c3a10e'),\n",
      " 'datum_id': 'ch1_spectrum_00000-08eaa0c0-d88d-47f1-9f4c-c8747b5bbb52',\n",
      " 'datum_kwargs': {'channel': 1, 'frame': 0},\n",
      " 'resource': ObjectId('55805fe445e1974028c3a10d')}\n"
     ]
    }
   ],
   "source": [
    "# collection: datum\n",
    "datum = db['datum']\n",
    "pprint.pprint(datum.find_one())"
   ]
  },
  {
   "cell_type": "code",
   "execution_count": 13,
   "metadata": {
    "collapsed": true
   },
   "outputs": [],
   "source": [
    "client.close()"
   ]
  }
 ],
 "metadata": {
  "anaconda-cloud": {},
  "kernelspec": {
   "display_name": "Python [default]",
   "language": "python",
   "name": "python3"
  },
  "language_info": {
   "codemirror_mode": {
    "name": "ipython",
    "version": 3
   },
   "file_extension": ".py",
   "mimetype": "text/x-python",
   "name": "python",
   "nbconvert_exporter": "python",
   "pygments_lexer": "ipython3",
   "version": "3.5.2"
  }
 },
 "nbformat": 4,
 "nbformat_minor": 1
}
